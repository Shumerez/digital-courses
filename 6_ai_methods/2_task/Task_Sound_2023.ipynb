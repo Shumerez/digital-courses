{
  "nbformat": 4,
  "nbformat_minor": 0,
  "metadata": {
    "kernelspec": {
      "display_name": "Python 3.6",
      "language": "python",
      "name": "python36"
    },
    "language_info": {
      "codemirror_mode": {
        "name": "ipython",
        "version": 3
      },
      "file_extension": ".py",
      "mimetype": "text/x-python",
      "name": "python",
      "nbconvert_exporter": "python",
      "pygments_lexer": "ipython3",
      "version": "3.6.6"
    },
    "colab": {
      "provenance": []
    }
  },
  "cells": [
    {
      "cell_type": "markdown",
      "metadata": {
        "id": "ZNP3DTIbs2Yw"
      },
      "source": [
        "Установка необходимых библиотек"
      ]
    },
    {
      "cell_type": "code",
      "metadata": {
        "id": "Vetqp0TQqonS",
        "colab": {
          "base_uri": "https://localhost:8080/"
        },
        "outputId": "add6f81b-20f2-44ae-8a6a-0da7be72ddbd"
      },
      "source": [
        "!pip install -q SpeechRecognition==3.8.1\n",
        "!pip install -q pocketsphinx==5.0.0"
      ],
      "execution_count": 1,
      "outputs": [
        {
          "output_type": "stream",
          "name": "stdout",
          "text": [
            "\u001b[2K     \u001b[90m━━━━━━━━━━━━━━━━━━━━━━━━━━━━━━━━━━━━━━━━\u001b[0m \u001b[32m32.8/32.8 MB\u001b[0m \u001b[31m20.3 MB/s\u001b[0m eta \u001b[36m0:00:00\u001b[0m\n",
            "\u001b[2K     \u001b[90m━━━━━━━━━━━━━━━━━━━━━━━━━━━━━━━━━━━━━━━━\u001b[0m \u001b[32m29.1/29.1 MB\u001b[0m \u001b[31m31.6 MB/s\u001b[0m eta \u001b[36m0:00:00\u001b[0m\n",
            "\u001b[?25h"
          ]
        }
      ]
    },
    {
      "cell_type": "markdown",
      "metadata": {
        "id": "45vHeCFfqone"
      },
      "source": [
        "Подключение библиотеки"
      ]
    },
    {
      "cell_type": "code",
      "metadata": {
        "id": "6SH2matOqong"
      },
      "source": [
        "import speech_recognition as sr"
      ],
      "execution_count": 2,
      "outputs": []
    },
    {
      "cell_type": "markdown",
      "metadata": {
        "id": "MBSQMDVmqonn"
      },
      "source": [
        "Довольно простой код для распознавания звуковых файлов и обработки возможных ошибок:"
      ]
    },
    {
      "cell_type": "code",
      "metadata": {
        "id": "uU6kwHlPqonp",
        "colab": {
          "base_uri": "https://localhost:8080/"
        },
        "outputId": "c88bdb14-d249-493f-890d-74bf285be9f5"
      },
      "source": [
        "# Имя файла, который требуется распознать\n",
        "AUDIO_FILE = '12.wav'\n",
        "\n",
        "# Чтение файла\n",
        "r = sr.Recognizer()\n",
        "with sr.AudioFile(AUDIO_FILE) as source:\n",
        "    audio = r.record(source)\n",
        "\n",
        "# Распознавание с помощью Sphinx\n",
        "try:\n",
        "    print(\"Результат Sphinx: \" + r.recognize_sphinx(audio))\n",
        "except sr.UnknownValueError:\n",
        "    print(\"Ошибка: Sphinx could not understand audio\")\n",
        "except sr.RequestError as e:\n",
        "    print(\"Ошибка: Sphinx error; {0}\".format(e))\n"
      ],
      "execution_count": 10,
      "outputs": [
        {
          "output_type": "stream",
          "name": "stdout",
          "text": [
            "Результат Sphinx: go home to chickens before they had show\n"
          ]
        }
      ]
    }
  ]
}