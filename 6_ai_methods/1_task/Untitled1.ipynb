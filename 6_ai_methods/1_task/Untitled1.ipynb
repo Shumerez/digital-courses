{
  "nbformat": 4,
  "nbformat_minor": 0,
  "metadata": {
    "colab": {
      "provenance": []
    },
    "kernelspec": {
      "name": "python3",
      "display_name": "Python 3"
    },
    "language_info": {
      "name": "python"
    }
  },
  "cells": [
    {
      "cell_type": "code",
      "execution_count": null,
      "metadata": {
        "id": "X8lqem7oaCBo"
      },
      "outputs": [],
      "source": [
        "import numpy as np"
      ]
    },
    {
      "cell_type": "code",
      "source": [
        "x = np.array([0.4, 0.7, 0.6, 0.2])\n",
        "w = np.array([0.1, 0.9, 0.5, -0.3])"
      ],
      "metadata": {
        "id": "emA7mylraPDO"
      },
      "execution_count": null,
      "outputs": []
    },
    {
      "cell_type": "code",
      "source": [
        "def activation(x):\n",
        "    if x>=0:\n",
        "        return x\n",
        "    else:\n",
        "        return 0"
      ],
      "metadata": {
        "id": "qddZxETqaefJ"
      },
      "execution_count": null,
      "outputs": []
    },
    {
      "cell_type": "code",
      "source": [
        "activation(np.sum(np.dot(x, w)))"
      ],
      "metadata": {
        "colab": {
          "base_uri": "https://localhost:8080/"
        },
        "id": "UfJXkypSap0f",
        "outputId": "2fb68301-2293-4b19-f2e8-f74c916e211f"
      },
      "execution_count": null,
      "outputs": [
        {
          "output_type": "execute_result",
          "data": {
            "text/plain": [
              "0.9099999999999999"
            ]
          },
          "metadata": {},
          "execution_count": 4
        }
      ]
    },
    {
      "cell_type": "code",
      "source": [],
      "metadata": {
        "id": "7zi83h_iaz8K"
      },
      "execution_count": null,
      "outputs": []
    }
  ]
}