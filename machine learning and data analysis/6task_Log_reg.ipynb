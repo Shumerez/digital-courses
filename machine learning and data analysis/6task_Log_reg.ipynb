{
  "nbformat": 4,
  "nbformat_minor": 0,
  "metadata": {
    "colab": {
      "name": "6task_Log_reg.ipynb",
      "provenance": [],
      "collapsed_sections": []
    },
    "kernelspec": {
      "name": "python3",
      "display_name": "Python 3"
    },
    "language_info": {
      "name": "python"
    }
  },
  "cells": [
    {
      "cell_type": "markdown",
      "source": [
        "The file contains data collected by voting for the best (or at least the most popular) Halloween candy. Train a logistic regression model. The following fields act as predictors: chocolate, fruity, caramel, peanutyalmondy, nougat, crispedricewafer, hard, bar, pluribus, sugarpercent, pricepercent, response - Y.\n",
        "\n",
        "As a training dataset, use the data from the file, except for the following candies: Almond Joy, Dum Dums, Mr Good Bar. Train the model.\n",
        "\n",
        "Train the model and perform the prediction on all candies from the attached test data file."
      ],
      "metadata": {
        "id": "MQ4AoFZ2YZMg"
      }
    },
    {
      "cell_type": "code",
      "execution_count": 81,
      "metadata": {
        "id": "dBKhPjNnfP9a",
        "colab": {
          "base_uri": "https://localhost:8080/"
        },
        "outputId": "e7f1de9a-afd6-46e9-8fe4-25faeb907cf2"
      },
      "outputs": [
        {
          "output_type": "stream",
          "name": "stdout",
          "text": [
            "1 task: 0.156\n",
            "2 task: 0.292\n",
            "3 task: 0.6\n",
            "4 task: 0.5\n",
            "5 task: 0.86\n"
          ]
        }
      ],
      "source": [
        "from pandas import Series, DataFrame\n",
        "import pandas as pd\n",
        "\n",
        "train_data = pd.read_csv(\"drive/MyDrive/data/candy-data-6task.csv\", delimiter=',', decimal='.', index_col = 'competitorname').drop(columns=[\"winpercent\"], index=[\"Almond Joy\", \"Dum Dums\", \"Mr Good Bar\"])\n",
        "test_data = pd.read_csv(\"drive/MyDrive/data/candy-test.csv\", delimiter=',', decimal='.', index_col = 'competitorname')\n",
        "\n",
        "warheads = test_data.loc[[\"Warheads\"]].drop(columns=[\"Y\"])\n",
        "sugarbabies = test_data.loc[[\"Sugar Babies\"]].drop(columns=[\"Y\"])\n",
        "\n",
        "from sklearn.linear_model import LogisticRegression\n",
        "reg = LogisticRegression(random_state = 2019, solver = 'lbfgs').fit(train_data.drop(columns=[\"Y\"]).to_numpy(), train_data.Y.to_numpy())\n",
        "\n",
        "warheads_prob = reg.predict_proba(warheads.to_numpy().reshape(1, -1))[0, 1]\n",
        "sugarbabies_prob = reg.predict_proba(sugarbabies.to_numpy().reshape(1, -1))[0, 1]\n",
        "\n",
        "print(\"1 task: {}\".format(round(warheads_prob, 3)))\n",
        "print(\"2 task: {}\".format(round(sugarbabies_prob, 3)))\n",
        "\n",
        "predicted = reg.predict(test_data.drop(columns=[\"Y\"]).to_numpy())\n",
        "predicted_probs = reg.predict_proba(test_data.drop(columns=[\"Y\"]).to_numpy())\n",
        "\n",
        "from sklearn.metrics import recall_score\n",
        "from sklearn.metrics import precision_score\n",
        "from sklearn.metrics import roc_auc_score\n",
        "\n",
        "recall = recall_score(test_data.Y.to_numpy(), predicted)\n",
        "precision = precision_score(test_data.Y.to_numpy(), predicted)\n",
        "auc_score = roc_auc_score(test_data.Y.to_numpy().reshape(-1, 1), predicted_probs[:, 1])\n",
        "\n",
        "print(\"3 task: {}\".format(round(recall, 3)))\n",
        "print(\"4 task: {}\".format(round(precision, 3)))\n",
        "print(\"5 task: {}\".format(round(auc_score, 3)))"
      ]
    }
  ]
}