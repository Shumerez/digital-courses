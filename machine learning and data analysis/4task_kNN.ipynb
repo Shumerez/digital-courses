{
  "nbformat": 4,
  "nbformat_minor": 0,
  "metadata": {
    "colab": {
      "name": "4task_kNN.ipynb",
      "provenance": []
    },
    "kernelspec": {
      "name": "python3",
      "display_name": "Python 3"
    },
    "language_info": {
      "name": "python"
    }
  },
  "cells": [
    {
      "cell_type": "markdown",
      "source": [
        "# Task despription\n",
        "\n",
        "You have access to a table of some synthetic data, on the basis of which it is necessary to classify a new object using the -nearest neighbors method."
      ],
      "metadata": {
        "id": "AUSAYw4XasaP"
      }
    },
    {
      "cell_type": "code",
      "execution_count": 16,
      "metadata": {
        "colab": {
          "base_uri": "https://localhost:8080/"
        },
        "id": "ztx9hurxVDZh",
        "outputId": "4508806c-c0b7-4116-e058-591e740368d7"
      },
      "outputs": [
        {
          "output_type": "execute_result",
          "data": {
            "text/plain": [
              "array([1])"
            ]
          },
          "metadata": {},
          "execution_count": 16
        }
      ],
      "source": [
        "from pandas import Series, DataFrame\n",
        "import pandas as pd\n",
        "\n",
        "data = pd.read_csv(\"drive/MyDrive/data/4task_kNN_data.csv\", delimiter=',', decimal='.', index_col = 'id')\n",
        "\n",
        "from sklearn.neighbors import KNeighborsClassifier\n",
        "\n",
        "neigh = KNeighborsClassifier(n_neighbors=3)\n",
        "neigh.fit(data.drop(columns=[\"Class\"]).to_numpy(), data.drop(columns=[\"X\", \"Y\"]).to_numpy().ravel())\n",
        "neigh.kneighbors([[98, 88]])\n",
        "neigh.predict([[98, 88]])\n",
        "\n",
        "neigh = KNeighborsClassifier(n_neighbors=3, p=1)\n",
        "neigh.fit(data.drop(columns=[\"Class\"]).to_numpy(), data.drop(columns=[\"X\", \"Y\"]).to_numpy().ravel())\n",
        "neigh.kneighbors([[98, 88]])\n",
        "neigh.predict([[98, 88]])"
      ]
    }
  ]
}