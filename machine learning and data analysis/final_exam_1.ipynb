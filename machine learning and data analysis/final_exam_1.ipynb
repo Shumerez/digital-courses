{
  "nbformat": 4,
  "nbformat_minor": 0,
  "metadata": {
    "colab": {
      "name": "final_exam_1.ipynb",
      "provenance": []
    },
    "kernelspec": {
      "name": "python3",
      "display_name": "Python 3"
    },
    "language_info": {
      "name": "python"
    }
  },
  "cells": [
    {
      "cell_type": "code",
      "execution_count": 38,
      "metadata": {
        "id": "XNxEITjCo4Wx"
      },
      "outputs": [],
      "source": [
        "from keras.datasets.mnist import load_data\n",
        "\n",
        "(x_train, y_train), (x_test, y_test) = keras.datasets.mnist.load_data()\n",
        "x_train = x_train.reshape(len(x_train), 28*28)"
      ]
    },
    {
      "cell_type": "code",
      "source": [
        "from sklearn.decomposition import PCA\n",
        "\n",
        "pca = PCA(svd_solver='full')\n",
        "pca.fit(x_train)"
      ],
      "metadata": {
        "colab": {
          "base_uri": "https://localhost:8080/"
        },
        "id": "YLjOhIuAmLhI",
        "outputId": "cf765bd1-94f8-43e6-a6cc-6f7027bcbb56"
      },
      "execution_count": 39,
      "outputs": [
        {
          "output_type": "execute_result",
          "data": {
            "text/plain": [
              "PCA(svd_solver='full')"
            ]
          },
          "metadata": {},
          "execution_count": 39
        }
      ]
    },
    {
      "cell_type": "code",
      "source": [
        "import numpy as np\n",
        "\n",
        "M = 0\n",
        "for arg, val in enumerate(np.cumsum(pca.explained_variance_ratio_)):\n",
        "    if val > 0.83:\n",
        "        M = arg + 1\n",
        "        break\n",
        "\n",
        "print(M)"
      ],
      "metadata": {
        "colab": {
          "base_uri": "https://localhost:8080/"
        },
        "id": "5jwzZ9hoo5Rk",
        "outputId": "8e06e260-9568-4b5d-c84d-a38398c9fc00"
      },
      "execution_count": 40,
      "outputs": [
        {
          "output_type": "stream",
          "name": "stdout",
          "text": [
            "52\n"
          ]
        }
      ]
    },
    {
      "cell_type": "code",
      "source": [
        "pca = PCA(n_components=M, svd_solver='full')\n",
        "pca = pca.fit(x_train)"
      ],
      "metadata": {
        "id": "AUJkNUK0q1O2"
      },
      "execution_count": 41,
      "outputs": []
    },
    {
      "cell_type": "code",
      "source": [
        "from sklearn.model_selection import train_test_split\n",
        "\n",
        "x_train_cut = pca.transform(x_train)\n",
        "\n",
        "x_train_cut, x_test_cut, y_train_cut, y_test_cut = train_test_split(x_train_cut, y_train, test_size=0.3, random_state=126)\n",
        "\n",
        "print(x_train_cut.transpose()[0].mean())"
      ],
      "metadata": {
        "colab": {
          "base_uri": "https://localhost:8080/"
        },
        "id": "9eKNBelir7ke",
        "outputId": "91011f44-249f-46a3-849a-14dec22a7584"
      },
      "execution_count": 42,
      "outputs": [
        {
          "output_type": "stream",
          "name": "stdout",
          "text": [
            "0.5965431171660649\n"
          ]
        }
      ]
    },
    {
      "cell_type": "code",
      "source": [
        "from sklearn.ensemble import RandomForestClassifier\n",
        "from sklearn.multiclass import OneVsRestClassifier\n",
        "from sklearn.metrics import confusion_matrix\n",
        "\n",
        "random_forest = RandomForestClassifier(criterion='gini', min_samples_leaf=10, max_depth=20, n_estimators=10, random_state=126)\n",
        "clf_random_forest = OneVsRestClassifier(random_forest).fit(x_train_cut, y_train_cut)\n",
        "y_pred = clf_random_forest.predict(x_test_cut)\n",
        "\n",
        "CM = confusion_matrix(y_test_cut, y_pred)\n",
        "print(CM[5][5])"
      ],
      "metadata": {
        "colab": {
          "base_uri": "https://localhost:8080/"
        },
        "id": "nGxv3t1UuGUP",
        "outputId": "6a4659b8-3d9b-4adf-edba-f3b55ae8f7d4"
      },
      "execution_count": 44,
      "outputs": [
        {
          "output_type": "stream",
          "name": "stdout",
          "text": [
            "1414\n"
          ]
        }
      ]
    },
    {
      "cell_type": "code",
      "source": [
        "import pandas as pd\n",
        "\n",
        "DATA = pd.read_csv(\"/content/drive/MyDrive/data/pred_for_task.csv\", delimiter=',', index_col='FileName')\n",
        "X_test = pd.DataFrame(DATA.drop(['Label'], axis=1))\n",
        "X_test = pca.transform(X_test)\n",
        "\n",
        "y_pred = clf_random_forest.predict_proba(X_test)\n",
        "idx = list(DATA.index).index(\"file20\")\n",
        "print(y_pred[idx][DATA['Label'][idx]])"
      ],
      "metadata": {
        "colab": {
          "base_uri": "https://localhost:8080/"
        },
        "id": "oSIsuqEzwJl1",
        "outputId": "9d11cdff-7929-4d2d-fd8b-3cc2bed49bf0"
      },
      "execution_count": 45,
      "outputs": [
        {
          "output_type": "stream",
          "name": "stdout",
          "text": [
            "0.9632103360054342\n"
          ]
        },
        {
          "output_type": "stream",
          "name": "stderr",
          "text": [
            "/usr/local/lib/python3.7/dist-packages/sklearn/base.py:444: UserWarning: X has feature names, but PCA was fitted without feature names\n",
            "  f\"X has feature names, but {self.__class__.__name__} was fitted without\"\n"
          ]
        }
      ]
    }
  ]
}