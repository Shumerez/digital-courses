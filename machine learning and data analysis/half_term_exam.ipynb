{
  "nbformat": 4,
  "nbformat_minor": 0,
  "metadata": {
    "colab": {
      "name": "half_term_exam.ipynb",
      "provenance": []
    },
    "kernelspec": {
      "name": "python3",
      "display_name": "Python 3"
    },
    "language_info": {
      "name": "python"
    }
  },
  "cells": [
    {
      "cell_type": "code",
      "execution_count": 108,
      "metadata": {
        "colab": {
          "base_uri": "https://localhost:8080/"
        },
        "id": "f_OaOqedjTji",
        "outputId": "46e216f9-fbb1-4d79-aac4-03f91a5e5d9e"
      },
      "outputs": [
        {
          "output_type": "stream",
          "name": "stderr",
          "text": [
            "/usr/local/lib/python3.7/dist-packages/sklearn/base.py:451: UserWarning: X does not have valid feature names, but StandardScaler was fitted with feature names\n",
            "  \"X does not have valid feature names, but\"\n"
          ]
        },
        {
          "output_type": "execute_result",
          "data": {
            "text/plain": [
              "(array([[1.67919448, 1.6803295 , 1.69891163, 1.74096268, 1.74311307]]),\n",
              " array([[2738, 1693, 2209, 1259, 2469]]))"
            ]
          },
          "metadata": {},
          "execution_count": 108
        }
      ],
      "source": [
        "from pandas import Series, DataFrame\n",
        "import pandas as pd\n",
        "\n",
        "stars = pd.read_csv(\"/content/drive/MyDrive/data/pulsar_stars_new.csv\")\n",
        "\n",
        "stars_frame = stars[(stars.MIP <= 100) & (stars.MIP >= 10)]\n",
        "round(stars_frame.MIP.mean(), 3)\n",
        "round(stars_frame.SIP.max(), 3)\n",
        "\n",
        "from sklearn.model_selection import train_test_split\n",
        "train, test, trainY, testY = train_test_split(stars_frame.drop(columns = \"TG\"), stars_frame.TG, random_state = 2022, test_size = 0.3)\n",
        "\n",
        "from sklearn.preprocessing import StandardScaler\n",
        "scaler = StandardScaler()\n",
        "scaler.fit(train)\n",
        "\n",
        "train = scaler.transform(train)\n",
        "test = scaler.transform(test)\n",
        "\n",
        "round(train[:, 3].max(), 3)\n",
        "\n",
        "from sklearn.linear_model import LogisticRegression\n",
        "reg = LogisticRegression(random_state = 2022, solver = 'lbfgs').fit(train, trainY)\n",
        "reg.coef_\n",
        "\n",
        "from sklearn.metrics import accuracy_score\n",
        "pred = reg.predict(test)\n",
        "round(accuracy_score(testY, pred), 3)\n",
        "\n",
        "import numpy as np\n",
        "\n",
        "star = np.array([136.750000,57.178449,-0.068415,-0.636238,3.642977,20.959280,6.896499,53.593661]).reshape(1, -1)\n",
        "star = scaler.transform(star)\n",
        "reg.predict_proba(star)\n",
        "\n",
        "from sklearn.neighbors import KNeighborsClassifier\n",
        "neigh = KNeighborsClassifier(n_neighbors=5, p = 2).fit(train, trainY)\n",
        "neigh.predict(star)\n",
        "neigh.kneighbors(star.reshape(1, -1))"
      ]
    }
  ]
}