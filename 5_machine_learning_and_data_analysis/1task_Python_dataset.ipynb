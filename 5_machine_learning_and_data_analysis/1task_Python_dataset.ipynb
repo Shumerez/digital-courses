{
  "cells": [
    {
      "cell_type": "markdown",
      "metadata": {
        "id": "aIK36nVXDsJ3"
      },
      "source": [
        "# Description\n",
        "The Database has a table ROSSTAT_SALARY_RU, which contains information about the average salary in the Russian Federation by region as of January 1, 2019 according to Rosstat. \n",
        "\n",
        "Build a variational series (sorting in non-decreasing order, numbering of elements starts from 1).\n",
        "\n",
        "Find the sample mean and median."
      ]
    },
    {
      "cell_type": "code",
      "execution_count": 12,
      "metadata": {
        "colab": {
          "base_uri": "https://localhost:8080/"
        },
        "id": "bhjeXWWwEAxy",
        "outputId": "9a78c16d-6a1b-44c4-e499-64335505a781"
      },
      "outputs": [
        {
          "name": "stdout",
          "output_type": "stream",
          "text": [
            "28256\n",
            "31163\n",
            "37857\n",
            "39083.51\n",
            "32779.5\n"
          ]
        }
      ],
      "source": [
        "from pandas import Series, DataFrame\n",
        "import pandas as pd\n",
        "\n",
        "regions = pd.read_csv(\"./data/ROSSTAT_SALARY_2019.csv\", delimiter=';', decimal='.', index_col = 'REGION_NAME')\n",
        "\n",
        "sorted_region = regions.sort_values(\"SALARY\", ascending=True)\n",
        "\n",
        "print(sorted_region.SALARY[21])\n",
        "print(sorted_region.SALARY[33])\n",
        "print(sorted_region.SALARY[53])\n",
        "\n",
        "print(round(sorted_region.SALARY.mean(), 2))\n",
        "print(round(sorted_region.SALARY.median(), 2))"
      ]
    }
  ],
  "metadata": {
    "colab": {
      "name": "1task.ipynb",
      "provenance": []
    },
    "kernelspec": {
      "display_name": "Python 3",
      "name": "python3"
    },
    "language_info": {
      "codemirror_mode": {
        "name": "ipython",
        "version": 3
      },
      "file_extension": ".py",
      "mimetype": "text/x-python",
      "name": "python",
      "nbconvert_exporter": "python",
      "pygments_lexer": "ipython3",
      "version": "3.10.4"
    }
  },
  "nbformat": 4,
  "nbformat_minor": 0
}
