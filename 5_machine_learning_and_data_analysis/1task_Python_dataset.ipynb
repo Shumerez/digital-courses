{
  "nbformat": 4,
  "nbformat_minor": 0,
  "metadata": {
    "colab": {
      "name": "1task.ipynb",
      "provenance": []
    },
    "kernelspec": {
      "name": "python3",
      "display_name": "Python 3"
    },
    "language_info": {
      "name": "python"
    }
  },
  "cells": [
    {
      "cell_type": "markdown",
      "source": [
        "# Description\n",
        "The Database has a table ROSSTAT_SALARY_RU, which contains information about the average salary in the Russian Federation by region as of January 1, 2019 according to Rosstat. \n",
        "\n",
        "Build a variational series (sorting in non-decreasing order, numbering of elements starts from 1).\n",
        "\n",
        "Find the sample mean and median."
      ],
      "metadata": {
        "id": "aIK36nVXDsJ3"
      }
    },
    {
      "cell_type": "code",
      "source": [
        "from pandas import Series, DataFrame\n",
        "import pandas as pd\n",
        "\n",
        "regions = pd.read_csv(\"drive/MyDrive/data/rosstat_salary_ru.csv\", delimiter=';', decimal='.', index_col = 'REGION_NAME')\n",
        "\n",
        "sorted_region = regions.sort_values(\"SALARY\", ascending=True)\n",
        "\n",
        "sorted_region.SALARY[46]\n",
        "\n",
        "round(sorted_region.SALARY.mean(), 2)\n",
        "round(sorted_region.SALARY.median(), 2)"
      ],
      "metadata": {
        "id": "bhjeXWWwEAxy",
        "colab": {
          "base_uri": "https://localhost:8080/"
        },
        "outputId": "9a78c16d-6a1b-44c4-e499-64335505a781"
      },
      "execution_count": 15,
      "outputs": [
        {
          "output_type": "execute_result",
          "data": {
            "text/plain": [
              "32723.0"
            ]
          },
          "metadata": {},
          "execution_count": 15
        }
      ]
    }
  ]
}