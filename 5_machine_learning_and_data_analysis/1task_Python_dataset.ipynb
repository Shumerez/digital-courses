{
  "cells": [
    {
      "cell_type": "markdown",
      "metadata": {
        "id": "aIK36nVXDsJ3"
      },
      "source": [
        "# Description\n",
        "The Database has a table ROSSTAT_SALARY_RU, which contains information about the average salary in the Russian Federation by region as of January 1, 2019 according to Rosstat. \n",
        "\n",
        "Build a variational series (sorting in non-decreasing order, numbering of elements starts from 1).\n",
        "\n",
        "Find the sample mean and median.\n",
        "\n",
        "# А теперь по делу\n",
        "1) Найти файл ROSSTAT_original.xlsx в папке data.\n",
        "2) Сделать копию без строк, упомянутых в задании.\n",
        "3) Вставить в код название нового файла\n",
        "4) Вставить в коде номера X1, X2, X3 из задания\n",
        "5) Запустить, вставить ответы в openedu"
      ]
    },
    {
      "cell_type": "code",
      "execution_count": 8,
      "metadata": {
        "colab": {
          "base_uri": "https://localhost:8080/"
        },
        "id": "bhjeXWWwEAxy",
        "outputId": "9a78c16d-6a1b-44c4-e499-64335505a781"
      },
      "outputs": [
        {
          "name": "stdout",
          "output_type": "stream",
          "text": [
            "25663\n",
            "32013\n",
            "62555\n",
            "39199.4\n",
            "33086.0\n"
          ]
        }
      ],
      "source": [
        "from pandas import Series, DataFrame\n",
        "import pandas as pd\n",
        "\n",
        "# здесь имя нового файла\n",
        "regions = pd.read_csv(\"./data/ROSSTAT_2.csv\", delimiter=';', decimal='.', index_col = 'REGION_NAME')\n",
        "\n",
        "sorted_region = regions.sort_values(\"SALARY\", ascending=True)\n",
        "\n",
        "# номера элементов сюда\n",
        "X1 = 3\n",
        "X2 = 37\n",
        "X3 = 73\n",
        "\n",
        "print(sorted_region.SALARY[X1 - 1])\n",
        "print(sorted_region.SALARY[X2 - 1])\n",
        "print(sorted_region.SALARY[X3 - 1])\n",
        "\n",
        "print(round(sorted_region.SALARY.mean(), 2))\n",
        "print(round(sorted_region.SALARY.median(), 2))"
      ]
    }
  ],
  "metadata": {
    "colab": {
      "name": "1task.ipynb",
      "provenance": []
    },
    "kernelspec": {
      "display_name": "Python 3",
      "name": "python3"
    },
    "language_info": {
      "codemirror_mode": {
        "name": "ipython",
        "version": 3
      },
      "file_extension": ".py",
      "mimetype": "text/x-python",
      "name": "python",
      "nbconvert_exporter": "python",
      "pygments_lexer": "ipython3",
      "version": "3.10.4"
    }
  },
  "nbformat": 4,
  "nbformat_minor": 0
}
