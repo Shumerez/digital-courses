{
  "nbformat": 4,
  "nbformat_minor": 0,
  "metadata": {
    "colab": {
      "name": "  half_term_exam_2.ipynb",
      "provenance": []
    },
    "kernelspec": {
      "name": "python3",
      "display_name": "Python 3"
    },
    "language_info": {
      "name": "python"
    }
  },
  "cells": [
    {
      "cell_type": "code",
      "execution_count": 28,
      "metadata": {
        "colab": {
          "base_uri": "https://localhost:8080/"
        },
        "id": "-GC4C-4Y9BaC",
        "outputId": "d70a0550-6752-4ba3-8665-8179e2b2c440"
      },
      "outputs": [
        {
          "output_type": "execute_result",
          "data": {
            "text/plain": [
              "0.416"
            ]
          },
          "metadata": {},
          "execution_count": 28
        }
      ],
      "source": [
        "import pandas as pd\n",
        "stars = pd.read_csv(\"/content/drive/MyDrive/data/pulsar_stars_new.csv\")\n",
        "stars.head()\n",
        "\n",
        "stars = stars[((stars.TG == 0) & (stars.MIP >= 102.234375) & (stars.MIP <= 102.6015625))\n",
        "              | ((stars.TG == 1) & (stars.MIP >= 77.4921875) & (stars.MIP <= 83.7734375))]\n",
        "stars\n",
        "\n",
        "round(stars.MIP.mean(), 3)\n",
        "\n",
        "starsX = stars.drop(columns = \"TG\")\n",
        "starsY = stars.TG\n",
        "\n",
        "from sklearn.preprocessing import MinMaxScaler\n",
        "scaler = MinMaxScaler()\n",
        "starsX = scaler.fit_transform(starsX)\n",
        "\n",
        "round(starsX[:, 0].mean(), 3)\n",
        "\n",
        "from sklearn.linear_model import LogisticRegression\n",
        "logReg = LogisticRegression(random_state=2019, solver='lbfgs').fit(starsX, starsY)\n",
        "\n",
        "import numpy as np\n",
        "newStar = np.array([0.237, 0.293, 0.897, 0.0, 0.841, 0.969, 0.138, 0.083]).reshape(1, -1)\n",
        "round(logReg.predict_proba(newStar)[0, 1], 3)\n",
        "\n",
        "from sklearn.neighbors import KNeighborsClassifier\n",
        "neigh = KNeighborsClassifier(p = 2)\n",
        "neigh.fit(starsX, starsY)\n",
        "round(neigh.kneighbors(newStar)[0][0, 0], 3)"
      ]
    }
  ]
}