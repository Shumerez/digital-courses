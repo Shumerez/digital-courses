{
  "nbformat": 4,
  "nbformat_minor": 0,
  "metadata": {
    "colab": {
      "name": "8task_DecisionTrees.ipynb",
      "provenance": []
    },
    "kernelspec": {
      "name": "python3",
      "display_name": "Python 3"
    },
    "language_info": {
      "name": "python"
    }
  },
  "cells": [
    {
      "cell_type": "markdown",
      "source": [
        "## Дисклеймер\n",
        "\n",
        "В этом упражнении вам предлагается построить классификатор на наборе данных, полученных Национальным институтом диабета, болезней органов пищеварения и почек (National Institute of Diabetes and Digestive and Kidney Diseases). Цель состоит в том, чтобы ответить на вопрос: есть ли у пациента диабет, основываясь на определенных диагностических измерениях, включенных в набор данных, который получен из исходной базы данных наложением нескольких ограничений. В частности, в рассматриваемых в задании данных, все пациенты — женщины не менее 21 года индийского происхождения Пима.  \n",
        "  \n",
        "[Набор данных](https://www.kaggle.com/datasets/uciml/pima-indians-diabetes-database) состоит из таких предикторов, как количество беременностей у пациентки, индекс массы тела, уровень инсулина, возраст и так далее. Отклик принимает два значение — больна (1) диабетом или нет (0).  \n",
        "  \n",
        "В задачах используйте реализацию ДПР из библиотеки *sklearn*:  "
      ],
      "metadata": {
        "id": "RnsUTstv-fRL"
      }
    },
    {
      "cell_type": "code",
      "execution_count": 158,
      "metadata": {
        "id": "OskvzGo--O-I"
      },
      "outputs": [],
      "source": [
        "from sklearn.tree import DecisionTreeClassifier"
      ]
    },
    {
      "cell_type": "markdown",
      "source": [
        "При обучении используйте параметры, указанные в вашем варианте, например:\n",
        "\n",
        "*DecisionTreeClassifier(criterion='entropy', min_samples_leaf=20, max_leaf_nodes=30, random_state=2020)*  \n",
        "  \n",
        "Для визуализации дерева принятия решений можете воспользоваться библиотекой *graphviz* и кодом (где x — тренировочный набор данных, clf — обученное ДПР):"
      ],
      "metadata": {
        "id": "RsvfhW0I_frD"
      }
    },
    {
      "cell_type": "code",
      "source": [
        "'''\n",
        "from sklearn.tree import export_graphviz\n",
        "import graphviz\n",
        "columns = list(x.columns)\n",
        "export_graphviz(clf, out_file='tree.dot', \n",
        "                feature_names=columns,\n",
        "                class_names=['0', '1'],\n",
        "                rounded = True, proportion = False, \n",
        "                precision = 2, filled = True, label='all')\n",
        "\n",
        "with open('tree.dot') as f:\n",
        "    dot_graph = f.read()\n",
        "\n",
        "graphviz.Source(dot_graph)\n",
        "'''"
      ],
      "metadata": {
        "colab": {
          "base_uri": "https://localhost:8080/",
          "height": 71
        },
        "id": "Ny7H8Lb2_yhq",
        "outputId": "331dbfe1-d9de-4c89-ec12-5059cbe882e4"
      },
      "execution_count": 159,
      "outputs": [
        {
          "output_type": "execute_result",
          "data": {
            "text/plain": [
              "\"\\nfrom sklearn.tree import export_graphviz\\nimport graphviz\\ncolumns = list(x.columns)\\nexport_graphviz(clf, out_file='tree.dot', \\n                feature_names=columns,\\n                class_names=['0', '1'],\\n                rounded = True, proportion = False, \\n                precision = 2, filled = True, label='all')\\n\\nwith open('tree.dot') as f:\\n    dot_graph = f.read()\\n\\ngraphviz.Source(dot_graph)\\n\""
            ],
            "application/vnd.google.colaboratory.intrinsic+json": {
              "type": "string"
            }
          },
          "metadata": {},
          "execution_count": 159
        }
      ]
    },
    {
      "cell_type": "markdown",
      "source": [
        "## Задание\n",
        "\n",
        "1. Скачайте исходный набор данных и отделите от него первые 620 строк.\n",
        "\n",
        "Введите число строк в получившейся выборке относящихся к классу 0 (пациент не болен диабетом)."
      ],
      "metadata": {
        "id": "dJMdAor4AHS6"
      }
    },
    {
      "cell_type": "code",
      "source": [
        "from pandas import Series, DataFrame\n",
        "import pandas as pd\n",
        "\n",
        "allData = pd.read_csv(\"drive/MyDrive/data/diabetes.csv\", delimiter=',', decimal='.')\n",
        "data = allData.loc[:619]\n",
        "data.head()"
      ],
      "metadata": {
        "colab": {
          "base_uri": "https://localhost:8080/",
          "height": 206
        },
        "id": "j-jC64-qAR3N",
        "outputId": "d6936f77-4384-48a7-a045-723af9eecdec"
      },
      "execution_count": 160,
      "outputs": [
        {
          "output_type": "execute_result",
          "data": {
            "text/plain": [
              "   Pregnancies  Glucose  BloodPressure  SkinThickness  Insulin   BMI  \\\n",
              "0            6      148             72             35        0  33.6   \n",
              "1            1       85             66             29        0  26.6   \n",
              "2            8      183             64              0        0  23.3   \n",
              "3            1       89             66             23       94  28.1   \n",
              "4            0      137             40             35      168  43.1   \n",
              "\n",
              "   DiabetesPedigreeFunction  Age  Outcome  \n",
              "0                     0.627   50        1  \n",
              "1                     0.351   31        0  \n",
              "2                     0.672   32        1  \n",
              "3                     0.167   21        0  \n",
              "4                     2.288   33        1  "
            ],
            "text/html": [
              "\n",
              "  <div id=\"df-63d2298e-0906-4cd2-962f-d537eb1c11f0\">\n",
              "    <div class=\"colab-df-container\">\n",
              "      <div>\n",
              "<style scoped>\n",
              "    .dataframe tbody tr th:only-of-type {\n",
              "        vertical-align: middle;\n",
              "    }\n",
              "\n",
              "    .dataframe tbody tr th {\n",
              "        vertical-align: top;\n",
              "    }\n",
              "\n",
              "    .dataframe thead th {\n",
              "        text-align: right;\n",
              "    }\n",
              "</style>\n",
              "<table border=\"1\" class=\"dataframe\">\n",
              "  <thead>\n",
              "    <tr style=\"text-align: right;\">\n",
              "      <th></th>\n",
              "      <th>Pregnancies</th>\n",
              "      <th>Glucose</th>\n",
              "      <th>BloodPressure</th>\n",
              "      <th>SkinThickness</th>\n",
              "      <th>Insulin</th>\n",
              "      <th>BMI</th>\n",
              "      <th>DiabetesPedigreeFunction</th>\n",
              "      <th>Age</th>\n",
              "      <th>Outcome</th>\n",
              "    </tr>\n",
              "  </thead>\n",
              "  <tbody>\n",
              "    <tr>\n",
              "      <th>0</th>\n",
              "      <td>6</td>\n",
              "      <td>148</td>\n",
              "      <td>72</td>\n",
              "      <td>35</td>\n",
              "      <td>0</td>\n",
              "      <td>33.6</td>\n",
              "      <td>0.627</td>\n",
              "      <td>50</td>\n",
              "      <td>1</td>\n",
              "    </tr>\n",
              "    <tr>\n",
              "      <th>1</th>\n",
              "      <td>1</td>\n",
              "      <td>85</td>\n",
              "      <td>66</td>\n",
              "      <td>29</td>\n",
              "      <td>0</td>\n",
              "      <td>26.6</td>\n",
              "      <td>0.351</td>\n",
              "      <td>31</td>\n",
              "      <td>0</td>\n",
              "    </tr>\n",
              "    <tr>\n",
              "      <th>2</th>\n",
              "      <td>8</td>\n",
              "      <td>183</td>\n",
              "      <td>64</td>\n",
              "      <td>0</td>\n",
              "      <td>0</td>\n",
              "      <td>23.3</td>\n",
              "      <td>0.672</td>\n",
              "      <td>32</td>\n",
              "      <td>1</td>\n",
              "    </tr>\n",
              "    <tr>\n",
              "      <th>3</th>\n",
              "      <td>1</td>\n",
              "      <td>89</td>\n",
              "      <td>66</td>\n",
              "      <td>23</td>\n",
              "      <td>94</td>\n",
              "      <td>28.1</td>\n",
              "      <td>0.167</td>\n",
              "      <td>21</td>\n",
              "      <td>0</td>\n",
              "    </tr>\n",
              "    <tr>\n",
              "      <th>4</th>\n",
              "      <td>0</td>\n",
              "      <td>137</td>\n",
              "      <td>40</td>\n",
              "      <td>35</td>\n",
              "      <td>168</td>\n",
              "      <td>43.1</td>\n",
              "      <td>2.288</td>\n",
              "      <td>33</td>\n",
              "      <td>1</td>\n",
              "    </tr>\n",
              "  </tbody>\n",
              "</table>\n",
              "</div>\n",
              "      <button class=\"colab-df-convert\" onclick=\"convertToInteractive('df-63d2298e-0906-4cd2-962f-d537eb1c11f0')\"\n",
              "              title=\"Convert this dataframe to an interactive table.\"\n",
              "              style=\"display:none;\">\n",
              "        \n",
              "  <svg xmlns=\"http://www.w3.org/2000/svg\" height=\"24px\"viewBox=\"0 0 24 24\"\n",
              "       width=\"24px\">\n",
              "    <path d=\"M0 0h24v24H0V0z\" fill=\"none\"/>\n",
              "    <path d=\"M18.56 5.44l.94 2.06.94-2.06 2.06-.94-2.06-.94-.94-2.06-.94 2.06-2.06.94zm-11 1L8.5 8.5l.94-2.06 2.06-.94-2.06-.94L8.5 2.5l-.94 2.06-2.06.94zm10 10l.94 2.06.94-2.06 2.06-.94-2.06-.94-.94-2.06-.94 2.06-2.06.94z\"/><path d=\"M17.41 7.96l-1.37-1.37c-.4-.4-.92-.59-1.43-.59-.52 0-1.04.2-1.43.59L10.3 9.45l-7.72 7.72c-.78.78-.78 2.05 0 2.83L4 21.41c.39.39.9.59 1.41.59.51 0 1.02-.2 1.41-.59l7.78-7.78 2.81-2.81c.8-.78.8-2.07 0-2.86zM5.41 20L4 18.59l7.72-7.72 1.47 1.35L5.41 20z\"/>\n",
              "  </svg>\n",
              "      </button>\n",
              "      \n",
              "  <style>\n",
              "    .colab-df-container {\n",
              "      display:flex;\n",
              "      flex-wrap:wrap;\n",
              "      gap: 12px;\n",
              "    }\n",
              "\n",
              "    .colab-df-convert {\n",
              "      background-color: #E8F0FE;\n",
              "      border: none;\n",
              "      border-radius: 50%;\n",
              "      cursor: pointer;\n",
              "      display: none;\n",
              "      fill: #1967D2;\n",
              "      height: 32px;\n",
              "      padding: 0 0 0 0;\n",
              "      width: 32px;\n",
              "    }\n",
              "\n",
              "    .colab-df-convert:hover {\n",
              "      background-color: #E2EBFA;\n",
              "      box-shadow: 0px 1px 2px rgba(60, 64, 67, 0.3), 0px 1px 3px 1px rgba(60, 64, 67, 0.15);\n",
              "      fill: #174EA6;\n",
              "    }\n",
              "\n",
              "    [theme=dark] .colab-df-convert {\n",
              "      background-color: #3B4455;\n",
              "      fill: #D2E3FC;\n",
              "    }\n",
              "\n",
              "    [theme=dark] .colab-df-convert:hover {\n",
              "      background-color: #434B5C;\n",
              "      box-shadow: 0px 1px 3px 1px rgba(0, 0, 0, 0.15);\n",
              "      filter: drop-shadow(0px 1px 2px rgba(0, 0, 0, 0.3));\n",
              "      fill: #FFFFFF;\n",
              "    }\n",
              "  </style>\n",
              "\n",
              "      <script>\n",
              "        const buttonEl =\n",
              "          document.querySelector('#df-63d2298e-0906-4cd2-962f-d537eb1c11f0 button.colab-df-convert');\n",
              "        buttonEl.style.display =\n",
              "          google.colab.kernel.accessAllowed ? 'block' : 'none';\n",
              "\n",
              "        async function convertToInteractive(key) {\n",
              "          const element = document.querySelector('#df-63d2298e-0906-4cd2-962f-d537eb1c11f0');\n",
              "          const dataTable =\n",
              "            await google.colab.kernel.invokeFunction('convertToInteractive',\n",
              "                                                     [key], {});\n",
              "          if (!dataTable) return;\n",
              "\n",
              "          const docLinkHtml = 'Like what you see? Visit the ' +\n",
              "            '<a target=\"_blank\" href=https://colab.research.google.com/notebooks/data_table.ipynb>data table notebook</a>'\n",
              "            + ' to learn more about interactive tables.';\n",
              "          element.innerHTML = '';\n",
              "          dataTable['output_type'] = 'display_data';\n",
              "          await google.colab.output.renderOutput(dataTable, element);\n",
              "          const docLink = document.createElement('div');\n",
              "          docLink.innerHTML = docLinkHtml;\n",
              "          element.appendChild(docLink);\n",
              "        }\n",
              "      </script>\n",
              "    </div>\n",
              "  </div>\n",
              "  "
            ]
          },
          "metadata": {},
          "execution_count": 160
        }
      ]
    },
    {
      "cell_type": "code",
      "source": [
        "print(data[data.Outcome == 0].shape[0])"
      ],
      "metadata": {
        "colab": {
          "base_uri": "https://localhost:8080/"
        },
        "id": "8eBE4M69C0m1",
        "outputId": "aa7332a7-1671-42e7-9b50-6f2ad0858598"
      },
      "execution_count": 161,
      "outputs": [
        {
          "output_type": "stream",
          "name": "stdout",
          "text": [
            "404\n"
          ]
        }
      ]
    },
    {
      "cell_type": "markdown",
      "source": [
        "2. Разделите полученную выборку на тренировочную и тестовую части, в отношении 80/20 (первые 80% строк — тренировочный набор данных, остальные 20% — тестовый). Предикторами служат столбцы Pregnancies, Glucose, BloodPressure, SkinThickness, Insulin, BMI, DiabetesPedigreeFunction, Age. Отклик — Outcome."
      ],
      "metadata": {
        "id": "XnARha3lDRXy"
      }
    },
    {
      "cell_type": "code",
      "source": [
        "from sklearn.model_selection import train_test_split\n",
        "trainX, testX, trainY, testY = train_test_split(data.drop(columns = \"Outcome\"), data.Outcome, test_size = 0.2, shuffle = False)"
      ],
      "metadata": {
        "id": "0ZdVTZQRDSIB"
      },
      "execution_count": 162,
      "outputs": []
    },
    {
      "cell_type": "markdown",
      "source": [
        "3. Обучите классификатор используя DecisionTreeClassifier с параметрами criterion='entropy', max_leaf_nodes = 15, min_samples_leaf = 10 и random_state = 2020."
      ],
      "metadata": {
        "id": "TxYNY3-oDx_Z"
      }
    },
    {
      "cell_type": "code",
      "source": [
        "dct = DecisionTreeClassifier(criterion='entropy', min_samples_leaf=10, max_leaf_nodes=15, random_state=2020)\n",
        "dct.fit(trainX, trainY)\n",
        "\n",
        "#visualize\n",
        "from sklearn.tree import export_graphviz\n",
        "import graphviz\n",
        "columns = list(trainX.columns)\n",
        "export_graphviz(dct, out_file='tree.dot', \n",
        "                feature_names=columns,\n",
        "                class_names=['0', '1'],\n",
        "                rounded = True, proportion = False, \n",
        "                precision = 2, filled = True, label='all')\n",
        "\n",
        "with open('tree.dot') as f:\n",
        "    dot_graph = f.read()\n",
        "\n",
        "graphviz.Source(dot_graph)"
      ],
      "metadata": {
        "colab": {
          "base_uri": "https://localhost:8080/",
          "height": 1000
        },
        "id": "D6WaiDuEDyc7",
        "outputId": "b84ecb3c-7cba-4737-82d3-e7a061567d15"
      },
      "execution_count": 163,
      "outputs": [
        {
          "output_type": "execute_result",
          "data": {
            "text/plain": [
              "<graphviz.files.Source at 0x7f30a55069d0>"
            ],
            "image/svg+xml": "<?xml version=\"1.0\" encoding=\"UTF-8\" standalone=\"no\"?>\n<!DOCTYPE svg PUBLIC \"-//W3C//DTD SVG 1.1//EN\"\n \"http://www.w3.org/Graphics/SVG/1.1/DTD/svg11.dtd\">\n<!-- Generated by graphviz version 2.40.1 (20161225.0304)\n -->\n<!-- Title: Tree Pages: 1 -->\n<svg width=\"1117pt\" height=\"790pt\"\n viewBox=\"0.00 0.00 1116.50 790.00\" xmlns=\"http://www.w3.org/2000/svg\" xmlns:xlink=\"http://www.w3.org/1999/xlink\">\n<g id=\"graph0\" class=\"graph\" transform=\"scale(1 1) rotate(0) translate(4 786)\">\n<title>Tree</title>\n<polygon fill=\"#ffffff\" stroke=\"transparent\" points=\"-4,4 -4,-786 1112.5,-786 1112.5,4 -4,4\"/>\n<!-- 0 -->\n<g id=\"node1\" class=\"node\">\n<title>0</title>\n<path fill=\"#f4c9ab\" stroke=\"#000000\" d=\"M475.5,-782C475.5,-782 367.5,-782 367.5,-782 361.5,-782 355.5,-776 355.5,-770 355.5,-770 355.5,-711 355.5,-711 355.5,-705 361.5,-699 367.5,-699 367.5,-699 475.5,-699 475.5,-699 481.5,-699 487.5,-705 487.5,-711 487.5,-711 487.5,-770 487.5,-770 487.5,-776 481.5,-782 475.5,-782\"/>\n<text text-anchor=\"middle\" x=\"421.5\" y=\"-766.8\" font-family=\"Helvetica,sans-Serif\" font-size=\"14.00\" fill=\"#000000\">Glucose &lt;= 123.5</text>\n<text text-anchor=\"middle\" x=\"421.5\" y=\"-751.8\" font-family=\"Helvetica,sans-Serif\" font-size=\"14.00\" fill=\"#000000\">entropy = 0.95</text>\n<text text-anchor=\"middle\" x=\"421.5\" y=\"-736.8\" font-family=\"Helvetica,sans-Serif\" font-size=\"14.00\" fill=\"#000000\">samples = 496</text>\n<text text-anchor=\"middle\" x=\"421.5\" y=\"-721.8\" font-family=\"Helvetica,sans-Serif\" font-size=\"14.00\" fill=\"#000000\">value = [315, 181]</text>\n<text text-anchor=\"middle\" x=\"421.5\" y=\"-706.8\" font-family=\"Helvetica,sans-Serif\" font-size=\"14.00\" fill=\"#000000\">class = 0</text>\n</g>\n<!-- 1 -->\n<g id=\"node2\" class=\"node\">\n<title>1</title>\n<path fill=\"#eca16b\" stroke=\"#000000\" d=\"M395.5,-663C395.5,-663 295.5,-663 295.5,-663 289.5,-663 283.5,-657 283.5,-651 283.5,-651 283.5,-592 283.5,-592 283.5,-586 289.5,-580 295.5,-580 295.5,-580 395.5,-580 395.5,-580 401.5,-580 407.5,-586 407.5,-592 407.5,-592 407.5,-651 407.5,-651 407.5,-657 401.5,-663 395.5,-663\"/>\n<text text-anchor=\"middle\" x=\"345.5\" y=\"-647.8\" font-family=\"Helvetica,sans-Serif\" font-size=\"14.00\" fill=\"#000000\">BMI &lt;= 26.35</text>\n<text text-anchor=\"middle\" x=\"345.5\" y=\"-632.8\" font-family=\"Helvetica,sans-Serif\" font-size=\"14.00\" fill=\"#000000\">entropy = 0.72</text>\n<text text-anchor=\"middle\" x=\"345.5\" y=\"-617.8\" font-family=\"Helvetica,sans-Serif\" font-size=\"14.00\" fill=\"#000000\">samples = 283</text>\n<text text-anchor=\"middle\" x=\"345.5\" y=\"-602.8\" font-family=\"Helvetica,sans-Serif\" font-size=\"14.00\" fill=\"#000000\">value = [226, 57]</text>\n<text text-anchor=\"middle\" x=\"345.5\" y=\"-587.8\" font-family=\"Helvetica,sans-Serif\" font-size=\"14.00\" fill=\"#000000\">class = 0</text>\n</g>\n<!-- 0&#45;&gt;1 -->\n<g id=\"edge1\" class=\"edge\">\n<title>0&#45;&gt;1</title>\n<path fill=\"none\" stroke=\"#000000\" d=\"M394.9189,-698.8796C389.3395,-690.1434 383.3981,-680.8404 377.6405,-671.8253\"/>\n<polygon fill=\"#000000\" stroke=\"#000000\" points=\"380.5269,-669.8421 372.1946,-663.2981 374.6274,-673.6098 380.5269,-669.8421\"/>\n<text text-anchor=\"middle\" x=\"366.8111\" y=\"-684.0116\" font-family=\"Helvetica,sans-Serif\" font-size=\"14.00\" fill=\"#000000\">True</text>\n</g>\n<!-- 2 -->\n<g id=\"node17\" class=\"node\">\n<title>2</title>\n<path fill=\"#c7e3f8\" stroke=\"#000000\" d=\"M557.5,-663C557.5,-663 457.5,-663 457.5,-663 451.5,-663 445.5,-657 445.5,-651 445.5,-651 445.5,-592 445.5,-592 445.5,-586 451.5,-580 457.5,-580 457.5,-580 557.5,-580 557.5,-580 563.5,-580 569.5,-586 569.5,-592 569.5,-592 569.5,-651 569.5,-651 569.5,-657 563.5,-663 557.5,-663\"/>\n<text text-anchor=\"middle\" x=\"507.5\" y=\"-647.8\" font-family=\"Helvetica,sans-Serif\" font-size=\"14.00\" fill=\"#000000\">BMI &lt;= 29.95</text>\n<text text-anchor=\"middle\" x=\"507.5\" y=\"-632.8\" font-family=\"Helvetica,sans-Serif\" font-size=\"14.00\" fill=\"#000000\">entropy = 0.98</text>\n<text text-anchor=\"middle\" x=\"507.5\" y=\"-617.8\" font-family=\"Helvetica,sans-Serif\" font-size=\"14.00\" fill=\"#000000\">samples = 213</text>\n<text text-anchor=\"middle\" x=\"507.5\" y=\"-602.8\" font-family=\"Helvetica,sans-Serif\" font-size=\"14.00\" fill=\"#000000\">value = [89, 124]</text>\n<text text-anchor=\"middle\" x=\"507.5\" y=\"-587.8\" font-family=\"Helvetica,sans-Serif\" font-size=\"14.00\" fill=\"#000000\">class = 1</text>\n</g>\n<!-- 0&#45;&gt;2 -->\n<g id=\"edge16\" class=\"edge\">\n<title>0&#45;&gt;2</title>\n<path fill=\"none\" stroke=\"#000000\" d=\"M451.5786,-698.8796C457.9572,-690.0534 464.754,-680.6485 471.3319,-671.5466\"/>\n<polygon fill=\"#000000\" stroke=\"#000000\" points=\"474.2723,-673.4532 477.293,-663.2981 468.5988,-669.353 474.2723,-673.4532\"/>\n<text text-anchor=\"middle\" x=\"481.2662\" y=\"-684.2803\" font-family=\"Helvetica,sans-Serif\" font-size=\"14.00\" fill=\"#000000\">False</text>\n</g>\n<!-- 3 -->\n<g id=\"node3\" class=\"node\">\n<title>3</title>\n<path fill=\"#e5833b\" stroke=\"#000000\" d=\"M253,-536.5C253,-536.5 170,-536.5 170,-536.5 164,-536.5 158,-530.5 158,-524.5 158,-524.5 158,-480.5 158,-480.5 158,-474.5 164,-468.5 170,-468.5 170,-468.5 253,-468.5 253,-468.5 259,-468.5 265,-474.5 265,-480.5 265,-480.5 265,-524.5 265,-524.5 265,-530.5 259,-536.5 253,-536.5\"/>\n<text text-anchor=\"middle\" x=\"211.5\" y=\"-521.3\" font-family=\"Helvetica,sans-Serif\" font-size=\"14.00\" fill=\"#000000\">entropy = 0.1</text>\n<text text-anchor=\"middle\" x=\"211.5\" y=\"-506.3\" font-family=\"Helvetica,sans-Serif\" font-size=\"14.00\" fill=\"#000000\">samples = 81</text>\n<text text-anchor=\"middle\" x=\"211.5\" y=\"-491.3\" font-family=\"Helvetica,sans-Serif\" font-size=\"14.00\" fill=\"#000000\">value = [80, 1]</text>\n<text text-anchor=\"middle\" x=\"211.5\" y=\"-476.3\" font-family=\"Helvetica,sans-Serif\" font-size=\"14.00\" fill=\"#000000\">class = 0</text>\n</g>\n<!-- 1&#45;&gt;3 -->\n<g id=\"edge2\" class=\"edge\">\n<title>1&#45;&gt;3</title>\n<path fill=\"none\" stroke=\"#000000\" d=\"M298.6333,-579.8796C285.3844,-568.1138 270.9776,-555.3197 257.7644,-543.5855\"/>\n<polygon fill=\"#000000\" stroke=\"#000000\" points=\"259.9416,-540.8381 250.1403,-536.8149 255.2935,-546.0722 259.9416,-540.8381\"/>\n</g>\n<!-- 4 -->\n<g id=\"node4\" class=\"node\">\n<title>4</title>\n<path fill=\"#efb185\" stroke=\"#000000\" d=\"M395.5,-544C395.5,-544 295.5,-544 295.5,-544 289.5,-544 283.5,-538 283.5,-532 283.5,-532 283.5,-473 283.5,-473 283.5,-467 289.5,-461 295.5,-461 295.5,-461 395.5,-461 395.5,-461 401.5,-461 407.5,-467 407.5,-473 407.5,-473 407.5,-532 407.5,-532 407.5,-538 401.5,-544 395.5,-544\"/>\n<text text-anchor=\"middle\" x=\"345.5\" y=\"-528.8\" font-family=\"Helvetica,sans-Serif\" font-size=\"14.00\" fill=\"#000000\">Age &lt;= 25.5</text>\n<text text-anchor=\"middle\" x=\"345.5\" y=\"-513.8\" font-family=\"Helvetica,sans-Serif\" font-size=\"14.00\" fill=\"#000000\">entropy = 0.85</text>\n<text text-anchor=\"middle\" x=\"345.5\" y=\"-498.8\" font-family=\"Helvetica,sans-Serif\" font-size=\"14.00\" fill=\"#000000\">samples = 202</text>\n<text text-anchor=\"middle\" x=\"345.5\" y=\"-483.8\" font-family=\"Helvetica,sans-Serif\" font-size=\"14.00\" fill=\"#000000\">value = [146, 56]</text>\n<text text-anchor=\"middle\" x=\"345.5\" y=\"-468.8\" font-family=\"Helvetica,sans-Serif\" font-size=\"14.00\" fill=\"#000000\">class = 0</text>\n</g>\n<!-- 1&#45;&gt;4 -->\n<g id=\"edge3\" class=\"edge\">\n<title>1&#45;&gt;4</title>\n<path fill=\"none\" stroke=\"#000000\" d=\"M345.5,-579.8796C345.5,-571.6838 345.5,-562.9891 345.5,-554.5013\"/>\n<polygon fill=\"#000000\" stroke=\"#000000\" points=\"349.0001,-554.298 345.5,-544.2981 342.0001,-554.2981 349.0001,-554.298\"/>\n</g>\n<!-- 7 -->\n<g id=\"node5\" class=\"node\">\n<title>7</title>\n<path fill=\"#e88f50\" stroke=\"#000000\" d=\"M230,-425C230,-425 131,-425 131,-425 125,-425 119,-419 119,-413 119,-413 119,-354 119,-354 119,-348 125,-342 131,-342 131,-342 230,-342 230,-342 236,-342 242,-348 242,-354 242,-354 242,-413 242,-413 242,-419 236,-425 230,-425\"/>\n<text text-anchor=\"middle\" x=\"180.5\" y=\"-409.8\" font-family=\"Helvetica,sans-Serif\" font-size=\"14.00\" fill=\"#000000\">Glucose &lt;= 94.0</text>\n<text text-anchor=\"middle\" x=\"180.5\" y=\"-394.8\" font-family=\"Helvetica,sans-Serif\" font-size=\"14.00\" fill=\"#000000\">entropy = 0.48</text>\n<text text-anchor=\"middle\" x=\"180.5\" y=\"-379.8\" font-family=\"Helvetica,sans-Serif\" font-size=\"14.00\" fill=\"#000000\">samples = 78</text>\n<text text-anchor=\"middle\" x=\"180.5\" y=\"-364.8\" font-family=\"Helvetica,sans-Serif\" font-size=\"14.00\" fill=\"#000000\">value = [70, 8]</text>\n<text text-anchor=\"middle\" x=\"180.5\" y=\"-349.8\" font-family=\"Helvetica,sans-Serif\" font-size=\"14.00\" fill=\"#000000\">class = 0</text>\n</g>\n<!-- 4&#45;&gt;7 -->\n<g id=\"edge4\" class=\"edge\">\n<title>4&#45;&gt;7</title>\n<path fill=\"none\" stroke=\"#000000\" d=\"M287.791,-460.8796C274.477,-451.2774 260.2134,-440.9903 246.5741,-431.1534\"/>\n<polygon fill=\"#000000\" stroke=\"#000000\" points=\"248.3345,-428.1077 238.1764,-425.0969 244.2398,-433.7852 248.3345,-428.1077\"/>\n</g>\n<!-- 8 -->\n<g id=\"node10\" class=\"node\">\n<title>8</title>\n<path fill=\"#f5d1b6\" stroke=\"#000000\" d=\"M395,-425C395,-425 296,-425 296,-425 290,-425 284,-419 284,-413 284,-413 284,-354 284,-354 284,-348 290,-342 296,-342 296,-342 395,-342 395,-342 401,-342 407,-348 407,-354 407,-354 407,-413 407,-413 407,-419 401,-425 395,-425\"/>\n<text text-anchor=\"middle\" x=\"345.5\" y=\"-409.8\" font-family=\"Helvetica,sans-Serif\" font-size=\"14.00\" fill=\"#000000\">Glucose &lt;= 99.5</text>\n<text text-anchor=\"middle\" x=\"345.5\" y=\"-394.8\" font-family=\"Helvetica,sans-Serif\" font-size=\"14.00\" fill=\"#000000\">entropy = 0.96</text>\n<text text-anchor=\"middle\" x=\"345.5\" y=\"-379.8\" font-family=\"Helvetica,sans-Serif\" font-size=\"14.00\" fill=\"#000000\">samples = 124</text>\n<text text-anchor=\"middle\" x=\"345.5\" y=\"-364.8\" font-family=\"Helvetica,sans-Serif\" font-size=\"14.00\" fill=\"#000000\">value = [76, 48]</text>\n<text text-anchor=\"middle\" x=\"345.5\" y=\"-349.8\" font-family=\"Helvetica,sans-Serif\" font-size=\"14.00\" fill=\"#000000\">class = 0</text>\n</g>\n<!-- 4&#45;&gt;8 -->\n<g id=\"edge9\" class=\"edge\">\n<title>4&#45;&gt;8</title>\n<path fill=\"none\" stroke=\"#000000\" d=\"M345.5,-460.8796C345.5,-452.6838 345.5,-443.9891 345.5,-435.5013\"/>\n<polygon fill=\"#000000\" stroke=\"#000000\" points=\"349.0001,-435.298 345.5,-425.2981 342.0001,-435.2981 349.0001,-435.298\"/>\n</g>\n<!-- 13 -->\n<g id=\"node6\" class=\"node\">\n<title>13</title>\n<path fill=\"#e58139\" stroke=\"#000000\" d=\"M95,-298.5C95,-298.5 12,-298.5 12,-298.5 6,-298.5 0,-292.5 0,-286.5 0,-286.5 0,-242.5 0,-242.5 0,-236.5 6,-230.5 12,-230.5 12,-230.5 95,-230.5 95,-230.5 101,-230.5 107,-236.5 107,-242.5 107,-242.5 107,-286.5 107,-286.5 107,-292.5 101,-298.5 95,-298.5\"/>\n<text text-anchor=\"middle\" x=\"53.5\" y=\"-283.3\" font-family=\"Helvetica,sans-Serif\" font-size=\"14.00\" fill=\"#000000\">entropy = 0.0</text>\n<text text-anchor=\"middle\" x=\"53.5\" y=\"-268.3\" font-family=\"Helvetica,sans-Serif\" font-size=\"14.00\" fill=\"#000000\">samples = 38</text>\n<text text-anchor=\"middle\" x=\"53.5\" y=\"-253.3\" font-family=\"Helvetica,sans-Serif\" font-size=\"14.00\" fill=\"#000000\">value = [38, 0]</text>\n<text text-anchor=\"middle\" x=\"53.5\" y=\"-238.3\" font-family=\"Helvetica,sans-Serif\" font-size=\"14.00\" fill=\"#000000\">class = 0</text>\n</g>\n<!-- 7&#45;&gt;13 -->\n<g id=\"edge5\" class=\"edge\">\n<title>7&#45;&gt;13</title>\n<path fill=\"none\" stroke=\"#000000\" d=\"M136.0816,-341.8796C123.6421,-330.2237 110.1257,-317.5587 97.699,-305.9148\"/>\n<polygon fill=\"#000000\" stroke=\"#000000\" points=\"99.8121,-303.0985 90.1218,-298.8149 95.0259,-308.2065 99.8121,-303.0985\"/>\n</g>\n<!-- 14 -->\n<g id=\"node7\" class=\"node\">\n<title>14</title>\n<path fill=\"#eca06a\" stroke=\"#000000\" d=\"M223.5,-306C223.5,-306 137.5,-306 137.5,-306 131.5,-306 125.5,-300 125.5,-294 125.5,-294 125.5,-235 125.5,-235 125.5,-229 131.5,-223 137.5,-223 137.5,-223 223.5,-223 223.5,-223 229.5,-223 235.5,-229 235.5,-235 235.5,-235 235.5,-294 235.5,-294 235.5,-300 229.5,-306 223.5,-306\"/>\n<text text-anchor=\"middle\" x=\"180.5\" y=\"-290.8\" font-family=\"Helvetica,sans-Serif\" font-size=\"14.00\" fill=\"#000000\">BMI &lt;= 31.3</text>\n<text text-anchor=\"middle\" x=\"180.5\" y=\"-275.8\" font-family=\"Helvetica,sans-Serif\" font-size=\"14.00\" fill=\"#000000\">entropy = 0.72</text>\n<text text-anchor=\"middle\" x=\"180.5\" y=\"-260.8\" font-family=\"Helvetica,sans-Serif\" font-size=\"14.00\" fill=\"#000000\">samples = 40</text>\n<text text-anchor=\"middle\" x=\"180.5\" y=\"-245.8\" font-family=\"Helvetica,sans-Serif\" font-size=\"14.00\" fill=\"#000000\">value = [32, 8]</text>\n<text text-anchor=\"middle\" x=\"180.5\" y=\"-230.8\" font-family=\"Helvetica,sans-Serif\" font-size=\"14.00\" fill=\"#000000\">class = 0</text>\n</g>\n<!-- 7&#45;&gt;14 -->\n<g id=\"edge6\" class=\"edge\">\n<title>7&#45;&gt;14</title>\n<path fill=\"none\" stroke=\"#000000\" d=\"M180.5,-341.8796C180.5,-333.6838 180.5,-324.9891 180.5,-316.5013\"/>\n<polygon fill=\"#000000\" stroke=\"#000000\" points=\"184.0001,-316.298 180.5,-306.2981 177.0001,-316.2981 184.0001,-316.298\"/>\n</g>\n<!-- 17 -->\n<g id=\"node8\" class=\"node\">\n<title>17</title>\n<path fill=\"#e58139\" stroke=\"#000000\" d=\"M159,-179.5C159,-179.5 76,-179.5 76,-179.5 70,-179.5 64,-173.5 64,-167.5 64,-167.5 64,-123.5 64,-123.5 64,-117.5 70,-111.5 76,-111.5 76,-111.5 159,-111.5 159,-111.5 165,-111.5 171,-117.5 171,-123.5 171,-123.5 171,-167.5 171,-167.5 171,-173.5 165,-179.5 159,-179.5\"/>\n<text text-anchor=\"middle\" x=\"117.5\" y=\"-164.3\" font-family=\"Helvetica,sans-Serif\" font-size=\"14.00\" fill=\"#000000\">entropy = 0.0</text>\n<text text-anchor=\"middle\" x=\"117.5\" y=\"-149.3\" font-family=\"Helvetica,sans-Serif\" font-size=\"14.00\" fill=\"#000000\">samples = 13</text>\n<text text-anchor=\"middle\" x=\"117.5\" y=\"-134.3\" font-family=\"Helvetica,sans-Serif\" font-size=\"14.00\" fill=\"#000000\">value = [13, 0]</text>\n<text text-anchor=\"middle\" x=\"117.5\" y=\"-119.3\" font-family=\"Helvetica,sans-Serif\" font-size=\"14.00\" fill=\"#000000\">class = 0</text>\n</g>\n<!-- 14&#45;&gt;17 -->\n<g id=\"edge7\" class=\"edge\">\n<title>14&#45;&gt;17</title>\n<path fill=\"none\" stroke=\"#000000\" d=\"M158.4657,-222.8796C152.6442,-211.8835 146.3473,-199.9893 140.4773,-188.9015\"/>\n<polygon fill=\"#000000\" stroke=\"#000000\" points=\"143.4389,-187.0152 135.6667,-179.8149 137.2524,-190.2905 143.4389,-187.0152\"/>\n</g>\n<!-- 18 -->\n<g id=\"node9\" class=\"node\">\n<title>18</title>\n<path fill=\"#f0b68c\" stroke=\"#000000\" d=\"M287.5,-179.5C287.5,-179.5 201.5,-179.5 201.5,-179.5 195.5,-179.5 189.5,-173.5 189.5,-167.5 189.5,-167.5 189.5,-123.5 189.5,-123.5 189.5,-117.5 195.5,-111.5 201.5,-111.5 201.5,-111.5 287.5,-111.5 287.5,-111.5 293.5,-111.5 299.5,-117.5 299.5,-123.5 299.5,-123.5 299.5,-167.5 299.5,-167.5 299.5,-173.5 293.5,-179.5 287.5,-179.5\"/>\n<text text-anchor=\"middle\" x=\"244.5\" y=\"-164.3\" font-family=\"Helvetica,sans-Serif\" font-size=\"14.00\" fill=\"#000000\">entropy = 0.88</text>\n<text text-anchor=\"middle\" x=\"244.5\" y=\"-149.3\" font-family=\"Helvetica,sans-Serif\" font-size=\"14.00\" fill=\"#000000\">samples = 27</text>\n<text text-anchor=\"middle\" x=\"244.5\" y=\"-134.3\" font-family=\"Helvetica,sans-Serif\" font-size=\"14.00\" fill=\"#000000\">value = [19, 8]</text>\n<text text-anchor=\"middle\" x=\"244.5\" y=\"-119.3\" font-family=\"Helvetica,sans-Serif\" font-size=\"14.00\" fill=\"#000000\">class = 0</text>\n</g>\n<!-- 14&#45;&gt;18 -->\n<g id=\"edge8\" class=\"edge\">\n<title>14&#45;&gt;18</title>\n<path fill=\"none\" stroke=\"#000000\" d=\"M202.8841,-222.8796C208.798,-211.8835 215.1949,-199.9893 221.158,-188.9015\"/>\n<polygon fill=\"#000000\" stroke=\"#000000\" points=\"224.3908,-190.2799 226.0449,-179.8149 218.2258,-186.9642 224.3908,-190.2799\"/>\n</g>\n<!-- 19 -->\n<g id=\"node11\" class=\"node\">\n<title>19</title>\n<path fill=\"#eca470\" stroke=\"#000000\" d=\"M351.5,-298.5C351.5,-298.5 265.5,-298.5 265.5,-298.5 259.5,-298.5 253.5,-292.5 253.5,-286.5 253.5,-286.5 253.5,-242.5 253.5,-242.5 253.5,-236.5 259.5,-230.5 265.5,-230.5 265.5,-230.5 351.5,-230.5 351.5,-230.5 357.5,-230.5 363.5,-236.5 363.5,-242.5 363.5,-242.5 363.5,-286.5 363.5,-286.5 363.5,-292.5 357.5,-298.5 351.5,-298.5\"/>\n<text text-anchor=\"middle\" x=\"308.5\" y=\"-283.3\" font-family=\"Helvetica,sans-Serif\" font-size=\"14.00\" fill=\"#000000\">entropy = 0.75</text>\n<text text-anchor=\"middle\" x=\"308.5\" y=\"-268.3\" font-family=\"Helvetica,sans-Serif\" font-size=\"14.00\" fill=\"#000000\">samples = 37</text>\n<text text-anchor=\"middle\" x=\"308.5\" y=\"-253.3\" font-family=\"Helvetica,sans-Serif\" font-size=\"14.00\" fill=\"#000000\">value = [29, 8]</text>\n<text text-anchor=\"middle\" x=\"308.5\" y=\"-238.3\" font-family=\"Helvetica,sans-Serif\" font-size=\"14.00\" fill=\"#000000\">class = 0</text>\n</g>\n<!-- 8&#45;&gt;19 -->\n<g id=\"edge10\" class=\"edge\">\n<title>8&#45;&gt;19</title>\n<path fill=\"none\" stroke=\"#000000\" d=\"M332.5592,-341.8796C329.2086,-331.1034 325.5899,-319.4647 322.2017,-308.5677\"/>\n<polygon fill=\"#000000\" stroke=\"#000000\" points=\"325.4806,-307.3248 319.1693,-298.8149 318.7963,-309.4032 325.4806,-307.3248\"/>\n</g>\n<!-- 20 -->\n<g id=\"node12\" class=\"node\">\n<title>20</title>\n<path fill=\"#fbece2\" stroke=\"#000000\" d=\"M513,-306C513,-306 394,-306 394,-306 388,-306 382,-300 382,-294 382,-294 382,-235 382,-235 382,-229 388,-223 394,-223 394,-223 513,-223 513,-223 519,-223 525,-229 525,-235 525,-235 525,-294 525,-294 525,-300 519,-306 513,-306\"/>\n<text text-anchor=\"middle\" x=\"453.5\" y=\"-290.8\" font-family=\"Helvetica,sans-Serif\" font-size=\"14.00\" fill=\"#000000\">Pregnancies &lt;= 6.5</text>\n<text text-anchor=\"middle\" x=\"453.5\" y=\"-275.8\" font-family=\"Helvetica,sans-Serif\" font-size=\"14.00\" fill=\"#000000\">entropy = 1.0</text>\n<text text-anchor=\"middle\" x=\"453.5\" y=\"-260.8\" font-family=\"Helvetica,sans-Serif\" font-size=\"14.00\" fill=\"#000000\">samples = 87</text>\n<text text-anchor=\"middle\" x=\"453.5\" y=\"-245.8\" font-family=\"Helvetica,sans-Serif\" font-size=\"14.00\" fill=\"#000000\">value = [47, 40]</text>\n<text text-anchor=\"middle\" x=\"453.5\" y=\"-230.8\" font-family=\"Helvetica,sans-Serif\" font-size=\"14.00\" fill=\"#000000\">class = 0</text>\n</g>\n<!-- 8&#45;&gt;20 -->\n<g id=\"edge11\" class=\"edge\">\n<title>8&#45;&gt;20</title>\n<path fill=\"none\" stroke=\"#000000\" d=\"M383.2732,-341.8796C391.5287,-332.7832 400.342,-323.0722 408.8374,-313.7116\"/>\n<polygon fill=\"#000000\" stroke=\"#000000\" points=\"411.4368,-316.0553 415.5656,-306.2981 406.2533,-311.3509 411.4368,-316.0553\"/>\n</g>\n<!-- 21 -->\n<g id=\"node13\" class=\"node\">\n<title>21</title>\n<path fill=\"#f4cbae\" stroke=\"#000000\" d=\"M492.5,-179.5C492.5,-179.5 400.5,-179.5 400.5,-179.5 394.5,-179.5 388.5,-173.5 388.5,-167.5 388.5,-167.5 388.5,-123.5 388.5,-123.5 388.5,-117.5 394.5,-111.5 400.5,-111.5 400.5,-111.5 492.5,-111.5 492.5,-111.5 498.5,-111.5 504.5,-117.5 504.5,-123.5 504.5,-123.5 504.5,-167.5 504.5,-167.5 504.5,-173.5 498.5,-179.5 492.5,-179.5\"/>\n<text text-anchor=\"middle\" x=\"446.5\" y=\"-164.3\" font-family=\"Helvetica,sans-Serif\" font-size=\"14.00\" fill=\"#000000\">entropy = 0.95</text>\n<text text-anchor=\"middle\" x=\"446.5\" y=\"-149.3\" font-family=\"Helvetica,sans-Serif\" font-size=\"14.00\" fill=\"#000000\">samples = 62</text>\n<text text-anchor=\"middle\" x=\"446.5\" y=\"-134.3\" font-family=\"Helvetica,sans-Serif\" font-size=\"14.00\" fill=\"#000000\">value = [39, 23]</text>\n<text text-anchor=\"middle\" x=\"446.5\" y=\"-119.3\" font-family=\"Helvetica,sans-Serif\" font-size=\"14.00\" fill=\"#000000\">class = 0</text>\n</g>\n<!-- 20&#45;&gt;21 -->\n<g id=\"edge12\" class=\"edge\">\n<title>20&#45;&gt;21</title>\n<path fill=\"none\" stroke=\"#000000\" d=\"M451.0517,-222.8796C450.4243,-212.2134 449.7472,-200.7021 449.1119,-189.9015\"/>\n<polygon fill=\"#000000\" stroke=\"#000000\" points=\"452.5998,-189.5921 448.5185,-179.8149 445.6119,-190.0032 452.5998,-189.5921\"/>\n</g>\n<!-- 22 -->\n<g id=\"node14\" class=\"node\">\n<title>22</title>\n<path fill=\"#96cbf1\" stroke=\"#000000\" d=\"M618,-187C618,-187 535,-187 535,-187 529,-187 523,-181 523,-175 523,-175 523,-116 523,-116 523,-110 529,-104 535,-104 535,-104 618,-104 618,-104 624,-104 630,-110 630,-116 630,-116 630,-175 630,-175 630,-181 624,-187 618,-187\"/>\n<text text-anchor=\"middle\" x=\"576.5\" y=\"-171.8\" font-family=\"Helvetica,sans-Serif\" font-size=\"14.00\" fill=\"#000000\">Age &lt;= 39.0</text>\n<text text-anchor=\"middle\" x=\"576.5\" y=\"-156.8\" font-family=\"Helvetica,sans-Serif\" font-size=\"14.00\" fill=\"#000000\">entropy = 0.9</text>\n<text text-anchor=\"middle\" x=\"576.5\" y=\"-141.8\" font-family=\"Helvetica,sans-Serif\" font-size=\"14.00\" fill=\"#000000\">samples = 25</text>\n<text text-anchor=\"middle\" x=\"576.5\" y=\"-126.8\" font-family=\"Helvetica,sans-Serif\" font-size=\"14.00\" fill=\"#000000\">value = [8, 17]</text>\n<text text-anchor=\"middle\" x=\"576.5\" y=\"-111.8\" font-family=\"Helvetica,sans-Serif\" font-size=\"14.00\" fill=\"#000000\">class = 1</text>\n</g>\n<!-- 20&#45;&gt;22 -->\n<g id=\"edge13\" class=\"edge\">\n<title>20&#45;&gt;22</title>\n<path fill=\"none\" stroke=\"#000000\" d=\"M496.5194,-222.8796C506.0147,-213.6931 516.1578,-203.8798 525.9215,-194.4336\"/>\n<polygon fill=\"#000000\" stroke=\"#000000\" points=\"528.5436,-196.7668 533.297,-187.2981 523.6763,-191.7359 528.5436,-196.7668\"/>\n</g>\n<!-- 23 -->\n<g id=\"node15\" class=\"node\">\n<title>23</title>\n<path fill=\"#4ba6e7\" stroke=\"#000000\" d=\"M556.5,-68C556.5,-68 470.5,-68 470.5,-68 464.5,-68 458.5,-62 458.5,-56 458.5,-56 458.5,-12 458.5,-12 458.5,-6 464.5,0 470.5,0 470.5,0 556.5,0 556.5,0 562.5,0 568.5,-6 568.5,-12 568.5,-12 568.5,-56 568.5,-56 568.5,-62 562.5,-68 556.5,-68\"/>\n<text text-anchor=\"middle\" x=\"513.5\" y=\"-52.8\" font-family=\"Helvetica,sans-Serif\" font-size=\"14.00\" fill=\"#000000\">entropy = 0.41</text>\n<text text-anchor=\"middle\" x=\"513.5\" y=\"-37.8\" font-family=\"Helvetica,sans-Serif\" font-size=\"14.00\" fill=\"#000000\">samples = 12</text>\n<text text-anchor=\"middle\" x=\"513.5\" y=\"-22.8\" font-family=\"Helvetica,sans-Serif\" font-size=\"14.00\" fill=\"#000000\">value = [1, 11]</text>\n<text text-anchor=\"middle\" x=\"513.5\" y=\"-7.8\" font-family=\"Helvetica,sans-Serif\" font-size=\"14.00\" fill=\"#000000\">class = 1</text>\n</g>\n<!-- 22&#45;&gt;23 -->\n<g id=\"edge14\" class=\"edge\">\n<title>22&#45;&gt;23</title>\n<path fill=\"none\" stroke=\"#000000\" d=\"M553.0411,-103.9815C548.1078,-95.2504 542.8926,-86.0202 537.9248,-77.2281\"/>\n<polygon fill=\"#000000\" stroke=\"#000000\" points=\"540.8263,-75.2483 532.8597,-68.2637 534.7319,-78.6918 540.8263,-75.2483\"/>\n</g>\n<!-- 24 -->\n<g id=\"node16\" class=\"node\">\n<title>24</title>\n<path fill=\"#fbede3\" stroke=\"#000000\" d=\"M678.5,-68C678.5,-68 598.5,-68 598.5,-68 592.5,-68 586.5,-62 586.5,-56 586.5,-56 586.5,-12 586.5,-12 586.5,-6 592.5,0 598.5,0 598.5,0 678.5,0 678.5,0 684.5,0 690.5,-6 690.5,-12 690.5,-12 690.5,-56 690.5,-56 690.5,-62 684.5,-68 678.5,-68\"/>\n<text text-anchor=\"middle\" x=\"638.5\" y=\"-52.8\" font-family=\"Helvetica,sans-Serif\" font-size=\"14.00\" fill=\"#000000\">entropy = 1.0</text>\n<text text-anchor=\"middle\" x=\"638.5\" y=\"-37.8\" font-family=\"Helvetica,sans-Serif\" font-size=\"14.00\" fill=\"#000000\">samples = 13</text>\n<text text-anchor=\"middle\" x=\"638.5\" y=\"-22.8\" font-family=\"Helvetica,sans-Serif\" font-size=\"14.00\" fill=\"#000000\">value = [7, 6]</text>\n<text text-anchor=\"middle\" x=\"638.5\" y=\"-7.8\" font-family=\"Helvetica,sans-Serif\" font-size=\"14.00\" fill=\"#000000\">class = 0</text>\n</g>\n<!-- 22&#45;&gt;24 -->\n<g id=\"edge15\" class=\"edge\">\n<title>22&#45;&gt;24</title>\n<path fill=\"none\" stroke=\"#000000\" d=\"M599.5865,-103.9815C604.4415,-95.2504 609.574,-86.0202 614.4629,-77.2281\"/>\n<polygon fill=\"#000000\" stroke=\"#000000\" points=\"617.6467,-78.7043 619.4476,-68.2637 611.5288,-75.3025 617.6467,-78.7043\"/>\n</g>\n<!-- 5 -->\n<g id=\"node18\" class=\"node\">\n<title>5</title>\n<path fill=\"#f0b58a\" stroke=\"#000000\" d=\"M567,-544C567,-544 448,-544 448,-544 442,-544 436,-538 436,-532 436,-532 436,-473 436,-473 436,-467 442,-461 448,-461 448,-461 567,-461 567,-461 573,-461 579,-467 579,-473 579,-473 579,-532 579,-532 579,-538 573,-544 567,-544\"/>\n<text text-anchor=\"middle\" x=\"507.5\" y=\"-528.8\" font-family=\"Helvetica,sans-Serif\" font-size=\"14.00\" fill=\"#000000\">Pregnancies &lt;= 1.5</text>\n<text text-anchor=\"middle\" x=\"507.5\" y=\"-513.8\" font-family=\"Helvetica,sans-Serif\" font-size=\"14.00\" fill=\"#000000\">entropy = 0.87</text>\n<text text-anchor=\"middle\" x=\"507.5\" y=\"-498.8\" font-family=\"Helvetica,sans-Serif\" font-size=\"14.00\" fill=\"#000000\">samples = 62</text>\n<text text-anchor=\"middle\" x=\"507.5\" y=\"-483.8\" font-family=\"Helvetica,sans-Serif\" font-size=\"14.00\" fill=\"#000000\">value = [44, 18]</text>\n<text text-anchor=\"middle\" x=\"507.5\" y=\"-468.8\" font-family=\"Helvetica,sans-Serif\" font-size=\"14.00\" fill=\"#000000\">class = 0</text>\n</g>\n<!-- 2&#45;&gt;5 -->\n<g id=\"edge17\" class=\"edge\">\n<title>2&#45;&gt;5</title>\n<path fill=\"none\" stroke=\"#000000\" d=\"M507.5,-579.8796C507.5,-571.6838 507.5,-562.9891 507.5,-554.5013\"/>\n<polygon fill=\"#000000\" stroke=\"#000000\" points=\"511.0001,-554.298 507.5,-544.2981 504.0001,-554.2981 511.0001,-554.298\"/>\n</g>\n<!-- 6 -->\n<g id=\"node23\" class=\"node\">\n<title>6</title>\n<path fill=\"#8dc7f0\" stroke=\"#000000\" d=\"M907,-544C907,-544 800,-544 800,-544 794,-544 788,-538 788,-532 788,-532 788,-473 788,-473 788,-467 794,-461 800,-461 800,-461 907,-461 907,-461 913,-461 919,-467 919,-473 919,-473 919,-532 919,-532 919,-538 913,-544 907,-544\"/>\n<text text-anchor=\"middle\" x=\"853.5\" y=\"-528.8\" font-family=\"Helvetica,sans-Serif\" font-size=\"14.00\" fill=\"#000000\">Glucose &lt;= 155.5</text>\n<text text-anchor=\"middle\" x=\"853.5\" y=\"-513.8\" font-family=\"Helvetica,sans-Serif\" font-size=\"14.00\" fill=\"#000000\">entropy = 0.88</text>\n<text text-anchor=\"middle\" x=\"853.5\" y=\"-498.8\" font-family=\"Helvetica,sans-Serif\" font-size=\"14.00\" fill=\"#000000\">samples = 151</text>\n<text text-anchor=\"middle\" x=\"853.5\" y=\"-483.8\" font-family=\"Helvetica,sans-Serif\" font-size=\"14.00\" fill=\"#000000\">value = [45, 106]</text>\n<text text-anchor=\"middle\" x=\"853.5\" y=\"-468.8\" font-family=\"Helvetica,sans-Serif\" font-size=\"14.00\" fill=\"#000000\">class = 1</text>\n</g>\n<!-- 2&#45;&gt;6 -->\n<g id=\"edge22\" class=\"edge\">\n<title>2&#45;&gt;6</title>\n<path fill=\"none\" stroke=\"#000000\" d=\"M569.7575,-600.0877C628.2092,-579.9844 715.7584,-549.8736 778.1328,-528.4211\"/>\n<polygon fill=\"#000000\" stroke=\"#000000\" points=\"779.601,-531.6174 787.919,-525.0553 777.3243,-524.998 779.601,-531.6174\"/>\n</g>\n<!-- 15 -->\n<g id=\"node19\" class=\"node\">\n<title>15</title>\n<path fill=\"#e78945\" stroke=\"#000000\" d=\"M537.5,-417.5C537.5,-417.5 451.5,-417.5 451.5,-417.5 445.5,-417.5 439.5,-411.5 439.5,-405.5 439.5,-405.5 439.5,-361.5 439.5,-361.5 439.5,-355.5 445.5,-349.5 451.5,-349.5 451.5,-349.5 537.5,-349.5 537.5,-349.5 543.5,-349.5 549.5,-355.5 549.5,-361.5 549.5,-361.5 549.5,-405.5 549.5,-405.5 549.5,-411.5 543.5,-417.5 537.5,-417.5\"/>\n<text text-anchor=\"middle\" x=\"494.5\" y=\"-402.3\" font-family=\"Helvetica,sans-Serif\" font-size=\"14.00\" fill=\"#000000\">entropy = 0.32</text>\n<text text-anchor=\"middle\" x=\"494.5\" y=\"-387.3\" font-family=\"Helvetica,sans-Serif\" font-size=\"14.00\" fill=\"#000000\">samples = 17</text>\n<text text-anchor=\"middle\" x=\"494.5\" y=\"-372.3\" font-family=\"Helvetica,sans-Serif\" font-size=\"14.00\" fill=\"#000000\">value = [16, 1]</text>\n<text text-anchor=\"middle\" x=\"494.5\" y=\"-357.3\" font-family=\"Helvetica,sans-Serif\" font-size=\"14.00\" fill=\"#000000\">class = 0</text>\n</g>\n<!-- 5&#45;&gt;15 -->\n<g id=\"edge18\" class=\"edge\">\n<title>5&#45;&gt;15</title>\n<path fill=\"none\" stroke=\"#000000\" d=\"M502.9532,-460.8796C501.788,-450.2134 500.5305,-438.7021 499.3506,-427.9015\"/>\n<polygon fill=\"#000000\" stroke=\"#000000\" points=\"502.8141,-427.3757 498.2487,-417.8149 495.8555,-428.1359 502.8141,-427.3757\"/>\n</g>\n<!-- 16 -->\n<g id=\"node20\" class=\"node\">\n<title>16</title>\n<path fill=\"#f5ceb1\" stroke=\"#000000\" d=\"M721,-425C721,-425 580,-425 580,-425 574,-425 568,-419 568,-413 568,-413 568,-354 568,-354 568,-348 574,-342 580,-342 580,-342 721,-342 721,-342 727,-342 733,-348 733,-354 733,-354 733,-413 733,-413 733,-419 727,-425 721,-425\"/>\n<text text-anchor=\"middle\" x=\"650.5\" y=\"-409.8\" font-family=\"Helvetica,sans-Serif\" font-size=\"14.00\" fill=\"#000000\">BloodPressure &lt;= 73.0</text>\n<text text-anchor=\"middle\" x=\"650.5\" y=\"-394.8\" font-family=\"Helvetica,sans-Serif\" font-size=\"14.00\" fill=\"#000000\">entropy = 0.96</text>\n<text text-anchor=\"middle\" x=\"650.5\" y=\"-379.8\" font-family=\"Helvetica,sans-Serif\" font-size=\"14.00\" fill=\"#000000\">samples = 45</text>\n<text text-anchor=\"middle\" x=\"650.5\" y=\"-364.8\" font-family=\"Helvetica,sans-Serif\" font-size=\"14.00\" fill=\"#000000\">value = [28, 17]</text>\n<text text-anchor=\"middle\" x=\"650.5\" y=\"-349.8\" font-family=\"Helvetica,sans-Serif\" font-size=\"14.00\" fill=\"#000000\">class = 0</text>\n</g>\n<!-- 5&#45;&gt;16 -->\n<g id=\"edge19\" class=\"edge\">\n<title>5&#45;&gt;16</title>\n<path fill=\"none\" stroke=\"#000000\" d=\"M557.5145,-460.8796C568.7701,-451.513 580.8088,-441.4948 592.3646,-431.8784\"/>\n<polygon fill=\"#000000\" stroke=\"#000000\" points=\"594.8242,-434.385 600.2721,-425.2981 590.3466,-429.0043 594.8242,-434.385\"/>\n</g>\n<!-- 25 -->\n<g id=\"node21\" class=\"node\">\n<title>25</title>\n<path fill=\"#cee6f8\" stroke=\"#000000\" d=\"M641.5,-298.5C641.5,-298.5 555.5,-298.5 555.5,-298.5 549.5,-298.5 543.5,-292.5 543.5,-286.5 543.5,-286.5 543.5,-242.5 543.5,-242.5 543.5,-236.5 549.5,-230.5 555.5,-230.5 555.5,-230.5 641.5,-230.5 641.5,-230.5 647.5,-230.5 653.5,-236.5 653.5,-242.5 653.5,-242.5 653.5,-286.5 653.5,-286.5 653.5,-292.5 647.5,-298.5 641.5,-298.5\"/>\n<text text-anchor=\"middle\" x=\"598.5\" y=\"-283.3\" font-family=\"Helvetica,sans-Serif\" font-size=\"14.00\" fill=\"#000000\">entropy = 0.99</text>\n<text text-anchor=\"middle\" x=\"598.5\" y=\"-268.3\" font-family=\"Helvetica,sans-Serif\" font-size=\"14.00\" fill=\"#000000\">samples = 21</text>\n<text text-anchor=\"middle\" x=\"598.5\" y=\"-253.3\" font-family=\"Helvetica,sans-Serif\" font-size=\"14.00\" fill=\"#000000\">value = [9, 12]</text>\n<text text-anchor=\"middle\" x=\"598.5\" y=\"-238.3\" font-family=\"Helvetica,sans-Serif\" font-size=\"14.00\" fill=\"#000000\">class = 1</text>\n</g>\n<!-- 16&#45;&gt;25 -->\n<g id=\"edge20\" class=\"edge\">\n<title>16&#45;&gt;25</title>\n<path fill=\"none\" stroke=\"#000000\" d=\"M632.3129,-341.8796C627.556,-330.9935 622.4143,-319.227 617.6108,-308.2344\"/>\n<polygon fill=\"#000000\" stroke=\"#000000\" points=\"620.7061,-306.5768 613.4948,-298.8149 614.2918,-309.3798 620.7061,-306.5768\"/>\n</g>\n<!-- 26 -->\n<g id=\"node22\" class=\"node\">\n<title>26</title>\n<path fill=\"#eca26d\" stroke=\"#000000\" d=\"M769.5,-298.5C769.5,-298.5 683.5,-298.5 683.5,-298.5 677.5,-298.5 671.5,-292.5 671.5,-286.5 671.5,-286.5 671.5,-242.5 671.5,-242.5 671.5,-236.5 677.5,-230.5 683.5,-230.5 683.5,-230.5 769.5,-230.5 769.5,-230.5 775.5,-230.5 781.5,-236.5 781.5,-242.5 781.5,-242.5 781.5,-286.5 781.5,-286.5 781.5,-292.5 775.5,-298.5 769.5,-298.5\"/>\n<text text-anchor=\"middle\" x=\"726.5\" y=\"-283.3\" font-family=\"Helvetica,sans-Serif\" font-size=\"14.00\" fill=\"#000000\">entropy = 0.74</text>\n<text text-anchor=\"middle\" x=\"726.5\" y=\"-268.3\" font-family=\"Helvetica,sans-Serif\" font-size=\"14.00\" fill=\"#000000\">samples = 24</text>\n<text text-anchor=\"middle\" x=\"726.5\" y=\"-253.3\" font-family=\"Helvetica,sans-Serif\" font-size=\"14.00\" fill=\"#000000\">value = [19, 5]</text>\n<text text-anchor=\"middle\" x=\"726.5\" y=\"-238.3\" font-family=\"Helvetica,sans-Serif\" font-size=\"14.00\" fill=\"#000000\">class = 0</text>\n</g>\n<!-- 16&#45;&gt;26 -->\n<g id=\"edge21\" class=\"edge\">\n<title>16&#45;&gt;26</title>\n<path fill=\"none\" stroke=\"#000000\" d=\"M677.0811,-341.8796C684.174,-330.7735 691.8521,-318.7513 698.9937,-307.5691\"/>\n<polygon fill=\"#000000\" stroke=\"#000000\" points=\"702.1518,-309.1267 704.5846,-298.8149 696.2523,-305.3589 702.1518,-309.1267\"/>\n</g>\n<!-- 9 -->\n<g id=\"node24\" class=\"node\">\n<title>9</title>\n<path fill=\"#c9e4f8\" stroke=\"#000000\" d=\"M924,-425C924,-425 783,-425 783,-425 777,-425 771,-419 771,-413 771,-413 771,-354 771,-354 771,-348 777,-342 783,-342 783,-342 924,-342 924,-342 930,-342 936,-348 936,-354 936,-354 936,-413 936,-413 936,-419 930,-425 924,-425\"/>\n<text text-anchor=\"middle\" x=\"853.5\" y=\"-409.8\" font-family=\"Helvetica,sans-Serif\" font-size=\"14.00\" fill=\"#000000\">BloodPressure &lt;= 59.0</text>\n<text text-anchor=\"middle\" x=\"853.5\" y=\"-394.8\" font-family=\"Helvetica,sans-Serif\" font-size=\"14.00\" fill=\"#000000\">entropy = 0.98</text>\n<text text-anchor=\"middle\" x=\"853.5\" y=\"-379.8\" font-family=\"Helvetica,sans-Serif\" font-size=\"14.00\" fill=\"#000000\">samples = 88</text>\n<text text-anchor=\"middle\" x=\"853.5\" y=\"-364.8\" font-family=\"Helvetica,sans-Serif\" font-size=\"14.00\" fill=\"#000000\">value = [37, 51]</text>\n<text text-anchor=\"middle\" x=\"853.5\" y=\"-349.8\" font-family=\"Helvetica,sans-Serif\" font-size=\"14.00\" fill=\"#000000\">class = 1</text>\n</g>\n<!-- 6&#45;&gt;9 -->\n<g id=\"edge23\" class=\"edge\">\n<title>6&#45;&gt;9</title>\n<path fill=\"none\" stroke=\"#000000\" d=\"M853.5,-460.8796C853.5,-452.6838 853.5,-443.9891 853.5,-435.5013\"/>\n<polygon fill=\"#000000\" stroke=\"#000000\" points=\"857.0001,-435.298 853.5,-425.2981 850.0001,-435.2981 857.0001,-435.298\"/>\n</g>\n<!-- 10 -->\n<g id=\"node29\" class=\"node\">\n<title>10</title>\n<path fill=\"#56abe9\" stroke=\"#000000\" d=\"M1052.5,-417.5C1052.5,-417.5 966.5,-417.5 966.5,-417.5 960.5,-417.5 954.5,-411.5 954.5,-405.5 954.5,-405.5 954.5,-361.5 954.5,-361.5 954.5,-355.5 960.5,-349.5 966.5,-349.5 966.5,-349.5 1052.5,-349.5 1052.5,-349.5 1058.5,-349.5 1064.5,-355.5 1064.5,-361.5 1064.5,-361.5 1064.5,-405.5 1064.5,-405.5 1064.5,-411.5 1058.5,-417.5 1052.5,-417.5\"/>\n<text text-anchor=\"middle\" x=\"1009.5\" y=\"-402.3\" font-family=\"Helvetica,sans-Serif\" font-size=\"14.00\" fill=\"#000000\">entropy = 0.55</text>\n<text text-anchor=\"middle\" x=\"1009.5\" y=\"-387.3\" font-family=\"Helvetica,sans-Serif\" font-size=\"14.00\" fill=\"#000000\">samples = 63</text>\n<text text-anchor=\"middle\" x=\"1009.5\" y=\"-372.3\" font-family=\"Helvetica,sans-Serif\" font-size=\"14.00\" fill=\"#000000\">value = [8, 55]</text>\n<text text-anchor=\"middle\" x=\"1009.5\" y=\"-357.3\" font-family=\"Helvetica,sans-Serif\" font-size=\"14.00\" fill=\"#000000\">class = 1</text>\n</g>\n<!-- 6&#45;&gt;10 -->\n<g id=\"edge28\" class=\"edge\">\n<title>6&#45;&gt;10</title>\n<path fill=\"none\" stroke=\"#000000\" d=\"M908.0612,-460.8796C923.8484,-448.8368 941.0479,-435.7167 956.7241,-423.7586\"/>\n<polygon fill=\"#000000\" stroke=\"#000000\" points=\"958.9392,-426.4709 964.7673,-417.623 954.6937,-420.9053 958.9392,-426.4709\"/>\n</g>\n<!-- 11 -->\n<g id=\"node25\" class=\"node\">\n<title>11</title>\n<path fill=\"#399de5\" stroke=\"#000000\" d=\"M895,-298.5C895,-298.5 812,-298.5 812,-298.5 806,-298.5 800,-292.5 800,-286.5 800,-286.5 800,-242.5 800,-242.5 800,-236.5 806,-230.5 812,-230.5 812,-230.5 895,-230.5 895,-230.5 901,-230.5 907,-236.5 907,-242.5 907,-242.5 907,-286.5 907,-286.5 907,-292.5 901,-298.5 895,-298.5\"/>\n<text text-anchor=\"middle\" x=\"853.5\" y=\"-283.3\" font-family=\"Helvetica,sans-Serif\" font-size=\"14.00\" fill=\"#000000\">entropy = 0.0</text>\n<text text-anchor=\"middle\" x=\"853.5\" y=\"-268.3\" font-family=\"Helvetica,sans-Serif\" font-size=\"14.00\" fill=\"#000000\">samples = 11</text>\n<text text-anchor=\"middle\" x=\"853.5\" y=\"-253.3\" font-family=\"Helvetica,sans-Serif\" font-size=\"14.00\" fill=\"#000000\">value = [0, 11]</text>\n<text text-anchor=\"middle\" x=\"853.5\" y=\"-238.3\" font-family=\"Helvetica,sans-Serif\" font-size=\"14.00\" fill=\"#000000\">class = 1</text>\n</g>\n<!-- 9&#45;&gt;11 -->\n<g id=\"edge24\" class=\"edge\">\n<title>9&#45;&gt;11</title>\n<path fill=\"none\" stroke=\"#000000\" d=\"M853.5,-341.8796C853.5,-331.2134 853.5,-319.7021 853.5,-308.9015\"/>\n<polygon fill=\"#000000\" stroke=\"#000000\" points=\"857.0001,-308.8149 853.5,-298.8149 850.0001,-308.815 857.0001,-308.8149\"/>\n</g>\n<!-- 12 -->\n<g id=\"node26\" class=\"node\">\n<title>12</title>\n<path fill=\"#f0f8fd\" stroke=\"#000000\" d=\"M1029.5,-306C1029.5,-306 937.5,-306 937.5,-306 931.5,-306 925.5,-300 925.5,-294 925.5,-294 925.5,-235 925.5,-235 925.5,-229 931.5,-223 937.5,-223 937.5,-223 1029.5,-223 1029.5,-223 1035.5,-223 1041.5,-229 1041.5,-235 1041.5,-235 1041.5,-294 1041.5,-294 1041.5,-300 1035.5,-306 1029.5,-306\"/>\n<text text-anchor=\"middle\" x=\"983.5\" y=\"-290.8\" font-family=\"Helvetica,sans-Serif\" font-size=\"14.00\" fill=\"#000000\">Age &lt;= 35.5</text>\n<text text-anchor=\"middle\" x=\"983.5\" y=\"-275.8\" font-family=\"Helvetica,sans-Serif\" font-size=\"14.00\" fill=\"#000000\">entropy = 1.0</text>\n<text text-anchor=\"middle\" x=\"983.5\" y=\"-260.8\" font-family=\"Helvetica,sans-Serif\" font-size=\"14.00\" fill=\"#000000\">samples = 77</text>\n<text text-anchor=\"middle\" x=\"983.5\" y=\"-245.8\" font-family=\"Helvetica,sans-Serif\" font-size=\"14.00\" fill=\"#000000\">value = [37, 40]</text>\n<text text-anchor=\"middle\" x=\"983.5\" y=\"-230.8\" font-family=\"Helvetica,sans-Serif\" font-size=\"14.00\" fill=\"#000000\">class = 1</text>\n</g>\n<!-- 9&#45;&gt;12 -->\n<g id=\"edge25\" class=\"edge\">\n<title>9&#45;&gt;12</title>\n<path fill=\"none\" stroke=\"#000000\" d=\"M898.9677,-341.8796C909.1017,-332.6031 919.934,-322.6874 930.3465,-313.1559\"/>\n<polygon fill=\"#000000\" stroke=\"#000000\" points=\"932.8252,-315.6319 937.8382,-306.2981 928.0987,-310.4685 932.8252,-315.6319\"/>\n</g>\n<!-- 27 -->\n<g id=\"node27\" class=\"node\">\n<title>27</title>\n<path fill=\"#f6d3ba\" stroke=\"#000000\" d=\"M962.5,-179.5C962.5,-179.5 870.5,-179.5 870.5,-179.5 864.5,-179.5 858.5,-173.5 858.5,-167.5 858.5,-167.5 858.5,-123.5 858.5,-123.5 858.5,-117.5 864.5,-111.5 870.5,-111.5 870.5,-111.5 962.5,-111.5 962.5,-111.5 968.5,-111.5 974.5,-117.5 974.5,-123.5 974.5,-123.5 974.5,-167.5 974.5,-167.5 974.5,-173.5 968.5,-179.5 962.5,-179.5\"/>\n<text text-anchor=\"middle\" x=\"916.5\" y=\"-164.3\" font-family=\"Helvetica,sans-Serif\" font-size=\"14.00\" fill=\"#000000\">entropy = 0.97</text>\n<text text-anchor=\"middle\" x=\"916.5\" y=\"-149.3\" font-family=\"Helvetica,sans-Serif\" font-size=\"14.00\" fill=\"#000000\">samples = 43</text>\n<text text-anchor=\"middle\" x=\"916.5\" y=\"-134.3\" font-family=\"Helvetica,sans-Serif\" font-size=\"14.00\" fill=\"#000000\">value = [26, 17]</text>\n<text text-anchor=\"middle\" x=\"916.5\" y=\"-119.3\" font-family=\"Helvetica,sans-Serif\" font-size=\"14.00\" fill=\"#000000\">class = 0</text>\n</g>\n<!-- 12&#45;&gt;27 -->\n<g id=\"edge26\" class=\"edge\">\n<title>12&#45;&gt;27</title>\n<path fill=\"none\" stroke=\"#000000\" d=\"M960.0667,-222.8796C953.8137,-211.7735 947.0448,-199.7513 940.749,-188.5691\"/>\n<polygon fill=\"#000000\" stroke=\"#000000\" points=\"943.7761,-186.8116 935.8202,-179.8149 937.6765,-190.2459 943.7761,-186.8116\"/>\n</g>\n<!-- 28 -->\n<g id=\"node28\" class=\"node\">\n<title>28</title>\n<path fill=\"#98ccf1\" stroke=\"#000000\" d=\"M1096.5,-179.5C1096.5,-179.5 1004.5,-179.5 1004.5,-179.5 998.5,-179.5 992.5,-173.5 992.5,-167.5 992.5,-167.5 992.5,-123.5 992.5,-123.5 992.5,-117.5 998.5,-111.5 1004.5,-111.5 1004.5,-111.5 1096.5,-111.5 1096.5,-111.5 1102.5,-111.5 1108.5,-117.5 1108.5,-123.5 1108.5,-123.5 1108.5,-167.5 1108.5,-167.5 1108.5,-173.5 1102.5,-179.5 1096.5,-179.5\"/>\n<text text-anchor=\"middle\" x=\"1050.5\" y=\"-164.3\" font-family=\"Helvetica,sans-Serif\" font-size=\"14.00\" fill=\"#000000\">entropy = 0.91</text>\n<text text-anchor=\"middle\" x=\"1050.5\" y=\"-149.3\" font-family=\"Helvetica,sans-Serif\" font-size=\"14.00\" fill=\"#000000\">samples = 34</text>\n<text text-anchor=\"middle\" x=\"1050.5\" y=\"-134.3\" font-family=\"Helvetica,sans-Serif\" font-size=\"14.00\" fill=\"#000000\">value = [11, 23]</text>\n<text text-anchor=\"middle\" x=\"1050.5\" y=\"-119.3\" font-family=\"Helvetica,sans-Serif\" font-size=\"14.00\" fill=\"#000000\">class = 1</text>\n</g>\n<!-- 12&#45;&gt;28 -->\n<g id=\"edge27\" class=\"edge\">\n<title>12&#45;&gt;28</title>\n<path fill=\"none\" stroke=\"#000000\" d=\"M1006.9333,-222.8796C1013.1863,-211.7735 1019.9552,-199.7513 1026.251,-188.5691\"/>\n<polygon fill=\"#000000\" stroke=\"#000000\" points=\"1029.3235,-190.2459 1031.1798,-179.8149 1023.2239,-186.8116 1029.3235,-190.2459\"/>\n</g>\n</g>\n</svg>\n"
          },
          "metadata": {},
          "execution_count": 163
        }
      ]
    },
    {
      "cell_type": "markdown",
      "source": [
        "4. Изучите получившееся дерево принятия решений.\n",
        "\n",
        "Введите глубину дерева:"
      ],
      "metadata": {
        "id": "Iu7w7Tc8EgR3"
      }
    },
    {
      "cell_type": "code",
      "source": [
        "print(dct.get_depth())"
      ],
      "metadata": {
        "colab": {
          "base_uri": "https://localhost:8080/"
        },
        "id": "wYitqBSxEhiY",
        "outputId": "c6fb1e7d-a2fa-4d10-ac8c-d6a292280800"
      },
      "execution_count": 164,
      "outputs": [
        {
          "output_type": "stream",
          "name": "stdout",
          "text": [
            "6\n"
          ]
        }
      ]
    },
    {
      "cell_type": "markdown",
      "source": [
        "По какому предиктору выполнено разделение на последнем уровне дерева принятия решений (если таких узлов несколько, введите название любого из них):"
      ],
      "metadata": {
        "id": "Yjkja7s7E1Fb"
      }
    },
    {
      "cell_type": "code",
      "source": [
        "print(\"Age\")"
      ],
      "metadata": {
        "colab": {
          "base_uri": "https://localhost:8080/"
        },
        "id": "plqq0J1cE1nd",
        "outputId": "a62c59bb-905a-4f8f-8873-e8fff6883561"
      },
      "execution_count": 165,
      "outputs": [
        {
          "output_type": "stream",
          "name": "stdout",
          "text": [
            "Age\n"
          ]
        }
      ]
    },
    {
      "cell_type": "markdown",
      "source": [
        "Введите значение разделения для указанного предиктора с точностью до сотых:"
      ],
      "metadata": {
        "id": "OJVFXMxOGVJQ"
      }
    },
    {
      "cell_type": "code",
      "source": [
        "print(39.0)"
      ],
      "metadata": {
        "colab": {
          "base_uri": "https://localhost:8080/"
        },
        "id": "o-1VastaGVp_",
        "outputId": "33707194-c450-4c93-d3b7-36a46cc5b5e9"
      },
      "execution_count": 166,
      "outputs": [
        {
          "output_type": "stream",
          "name": "stdout",
          "text": [
            "39.0\n"
          ]
        }
      ]
    },
    {
      "cell_type": "markdown",
      "source": [
        "5. Оцените модель с помощью тестовых данных."
      ],
      "metadata": {
        "id": "LEsqGVXzGY_f"
      }
    },
    {
      "cell_type": "code",
      "source": [
        "predY = dct.predict(testX)"
      ],
      "metadata": {
        "id": "t_dYfZ99GZtP"
      },
      "execution_count": 167,
      "outputs": []
    },
    {
      "cell_type": "markdown",
      "source": [
        "Введите долю правильных ответов:"
      ],
      "metadata": {
        "id": "lHhPiYPYH58F"
      }
    },
    {
      "cell_type": "code",
      "source": [
        "from sklearn.metrics import accuracy_score\n",
        "\n",
        "print(round(accuracy_score(testY, predY), 2))"
      ],
      "metadata": {
        "colab": {
          "base_uri": "https://localhost:8080/"
        },
        "id": "NmsFDaNoH6s5",
        "outputId": "9e993e59-5ed2-40be-b1a3-a09904f9420e"
      },
      "execution_count": 168,
      "outputs": [
        {
          "output_type": "stream",
          "name": "stdout",
          "text": [
            "0.85\n"
          ]
        }
      ]
    },
    {
      "cell_type": "markdown",
      "source": [
        "Введите среднее значение метрик $F_1$ (Macro-F1):"
      ],
      "metadata": {
        "id": "tdeBGbasG1_s"
      }
    },
    {
      "cell_type": "code",
      "source": [
        "from sklearn.metrics import f1_score\n",
        "\n",
        "print(round(f1_score(testY, predY, average='macro'), 2))"
      ],
      "metadata": {
        "colab": {
          "base_uri": "https://localhost:8080/"
        },
        "id": "hjzmXpMOGzqN",
        "outputId": "ac18093d-5be3-46df-f9c5-702eb9912e7c"
      },
      "execution_count": 169,
      "outputs": [
        {
          "output_type": "stream",
          "name": "stdout",
          "text": [
            "0.8\n"
          ]
        }
      ]
    },
    {
      "cell_type": "markdown",
      "source": [
        "6. Выполните предсказание для пациентов 754, 756, 759, 721 (указаны номера строк, нумерация с нуля) из начального набора данных."
      ],
      "metadata": {
        "id": "xnxG2Gg_IHne"
      }
    },
    {
      "cell_type": "code",
      "source": [
        "patientsId = [721, 754, 756, 759]\n",
        "\n",
        "for id in patientsId:\n",
        "    print(\"Prediction for the patient №%d: %d\"%(id, dct.predict(allData.drop(columns = \"Outcome\").loc[id].to_numpy().reshape(1, -1))[0]))"
      ],
      "metadata": {
        "colab": {
          "base_uri": "https://localhost:8080/"
        },
        "id": "QrZrKSlRILc1",
        "outputId": "c21dad46-390b-4e6a-f5f2-c0bc856787b8"
      },
      "execution_count": 170,
      "outputs": [
        {
          "output_type": "stream",
          "name": "stdout",
          "text": [
            "Prediction for the patient №721: 0\n",
            "Prediction for the patient №754: 1\n",
            "Prediction for the patient №756: 1\n",
            "Prediction for the patient №759: 1\n"
          ]
        },
        {
          "output_type": "stream",
          "name": "stderr",
          "text": [
            "/usr/local/lib/python3.7/dist-packages/sklearn/base.py:451: UserWarning: X does not have valid feature names, but DecisionTreeClassifier was fitted with feature names\n",
            "  \"X does not have valid feature names, but\"\n",
            "/usr/local/lib/python3.7/dist-packages/sklearn/base.py:451: UserWarning: X does not have valid feature names, but DecisionTreeClassifier was fitted with feature names\n",
            "  \"X does not have valid feature names, but\"\n",
            "/usr/local/lib/python3.7/dist-packages/sklearn/base.py:451: UserWarning: X does not have valid feature names, but DecisionTreeClassifier was fitted with feature names\n",
            "  \"X does not have valid feature names, but\"\n",
            "/usr/local/lib/python3.7/dist-packages/sklearn/base.py:451: UserWarning: X does not have valid feature names, but DecisionTreeClassifier was fitted with feature names\n",
            "  \"X does not have valid feature names, but\"\n"
          ]
        }
      ]
    }
  ]
}