{
  "cells": [
    {
      "cell_type": "markdown",
      "metadata": {
        "id": "dObNlusrB8TH"
      },
      "source": [
        "# Task 1\n",
        "\n",
        "Here are the results of observations of the duration of a person in a queue, depending on the number of people in this queue.\n",
        "Train a linear regression model for prediction and enter the specified parameters."
      ]
    },
    {
      "cell_type": "code",
      "execution_count": 8,
      "metadata": {
        "colab": {
          "base_uri": "https://localhost:8080/"
        },
        "id": "5ygDTtSfBleZ",
        "outputId": "7b3dde63-a8da-44a5-b83e-7b9aa8ad34c3"
      },
      "outputs": [
        {
          "name": "stdout",
          "output_type": "stream",
          "text": [
            "11.8\n",
            "25.1\n",
            "[5.39796716]\n",
            "[[1.6696638]]\n",
            "0.8525475628109431\n"
          ]
        }
      ],
      "source": [
        "from pandas import Series, DataFrame\n",
        "import pandas as pd\n",
        "\n",
        "time_in_queue = pd.read_csv(\"data/task3_data.csv\", delimiter=';', decimal='.', index_col = 'id')\n",
        "\n",
        "print(time_in_queue.X.mean())\n",
        "print(time_in_queue.Y.mean())\n",
        "\n",
        "from sklearn.linear_model import LinearRegression\n",
        "\n",
        "reg = LinearRegression().fit(time_in_queue.X.to_numpy().reshape(-1, 1), time_in_queue.Y.to_numpy().reshape(-1, 1))\n",
        "print(reg.intercept_)\n",
        "print(reg.coef_)\n",
        "print(reg.score(time_in_queue.X.to_numpy().reshape(-1, 1), time_in_queue.Y.to_numpy().reshape(-1, 1)))"
      ]
    },
    {
      "cell_type": "markdown",
      "metadata": {
        "id": "GpL8yrbqK-oN"
      },
      "source": [
        "# Task 2\n",
        "The attached file contains data collected by voting for the best (or at least the most popular) Halloween candy. Train a linear multivariate regression model. The following fields act as predictors: chocolate, fruity, caramel, peanutyalmondy, nougat, crispedricewafer, hard, bar, pluribus, sugarpercent, pricepercent, the response is winpercent.\n",
        "\n",
        "As a training dataset, use the data from the file, except for the following candies: Milky Way, Mr Good Bar. Train the model and enter the specified parameters."
      ]
    },
    {
      "cell_type": "code",
      "execution_count": 54,
      "metadata": {
        "colab": {
          "base_uri": "https://localhost:8080/"
        },
        "id": "moRVuQ_0LLms",
        "outputId": "fe66fdc9-d989-4c52-ae7d-fcd60136f74c"
      },
      "outputs": [
        {
          "name": "stdout",
          "output_type": "stream",
          "text": [
            "[[55.54422446]\n",
            " [61.82432832]]\n",
            "[[63.33202643]]\n"
          ]
        }
      ],
      "source": [
        "from pandas import Series, DataFrame\n",
        "import pandas as pd\n",
        "import numpy as np\n",
        "\n",
        "candy_data = pd.read_csv(\"drive/MyDrive/data/candy-data.csv\", delimiter=',', decimal='.', index_col = 'competitorname').drop(columns=[\"Y\"])\n",
        "train_candy_data = candy_data.drop(index=[\"Milky Way\", \"Mr Good Bar\"])\n",
        "predict_candy_data = candy_data.loc[[\"Milky Way\", \"Mr Good Bar\"]].drop(columns=[\"winpercent\"])\n",
        "some_candy = np.array([0, 1, 0, 1, 0, 1, 1, 0, 0, 0.93, 0.635])\n",
        "\n",
        "from sklearn.linear_model import LinearRegression\n",
        "\n",
        "reg = LinearRegression().fit(train_candy_data.drop(columns=[\"winpercent\"]).to_numpy(), train_candy_data.winpercent.to_numpy().reshape(-1, 1))\n",
        "print(reg.predict(predict_candy_data.to_numpy()))\n",
        "print(reg.predict(some_candy.reshape(1, -1)))"
      ]
    }
  ],
  "metadata": {
    "colab": {
      "name": "3task_Linear_regression.ipynb",
      "provenance": []
    },
    "kernelspec": {
      "display_name": "Python 3",
      "name": "python3"
    },
    "language_info": {
      "codemirror_mode": {
        "name": "ipython",
        "version": 3
      },
      "file_extension": ".py",
      "mimetype": "text/x-python",
      "name": "python",
      "nbconvert_exporter": "python",
      "pygments_lexer": "ipython3",
      "version": "3.10.4"
    }
  },
  "nbformat": 4,
  "nbformat_minor": 0
}
