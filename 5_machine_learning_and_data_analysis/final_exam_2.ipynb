{
  "nbformat": 4,
  "nbformat_minor": 0,
  "metadata": {
    "colab": {
      "name": "final_exam_2.ipynb",
      "provenance": []
    },
    "kernelspec": {
      "name": "python3",
      "display_name": "Python 3"
    },
    "language_info": {
      "name": "python"
    }
  },
  "cells": [
    {
      "cell_type": "code",
      "execution_count": 83,
      "metadata": {
        "id": "h6zIjifAxBiN"
      },
      "outputs": [],
      "source": [
        "from keras.datasets import mnist\n",
        "\n",
        "(x_train, y_train), (x_test, y_test) = mnist.load_data()\n",
        "x_train_ext = x_train.reshape(len(x_train), 28 * 28)"
      ]
    },
    {
      "cell_type": "code",
      "source": [
        "from sklearn.decomposition import PCA\n",
        "pca = PCA(svd_solver='full')\n",
        "pca = pca.fit(x_train_ext)"
      ],
      "metadata": {
        "id": "GHIqnrEu3M6x"
      },
      "execution_count": 84,
      "outputs": []
    },
    {
      "cell_type": "code",
      "source": [
        "import numpy as np\n",
        "\n",
        "M = 0.84\n",
        "resM = -1\n",
        "\n",
        "for a, b in enumerate(np.cumsum(pca.explained_variance_ratio_)):\n",
        "    if b > M:\n",
        "        resM = a + 1\n",
        "        break\n",
        "\n",
        "resM"
      ],
      "metadata": {
        "colab": {
          "base_uri": "https://localhost:8080/"
        },
        "id": "krSesX_r4HgN",
        "outputId": "eef63c69-bc31-4062-aa40-85afa0e364ae"
      },
      "execution_count": 85,
      "outputs": [
        {
          "output_type": "execute_result",
          "data": {
            "text/plain": [
              "56"
            ]
          },
          "metadata": {},
          "execution_count": 85
        }
      ]
    },
    {
      "cell_type": "code",
      "source": [
        "pca_new = PCA(n_components=resM, svd_solver='full')\n",
        "pca_new.fit(x_train_ext)\n",
        "x_train_ext = pca_new.transform(x_train_ext)\n",
        "x_train_ext.shape"
      ],
      "metadata": {
        "colab": {
          "base_uri": "https://localhost:8080/"
        },
        "id": "YhJQ_sSK4MfB",
        "outputId": "cab725a6-4102-41fd-c479-858a41f1af80"
      },
      "execution_count": 86,
      "outputs": [
        {
          "output_type": "execute_result",
          "data": {
            "text/plain": [
              "(60000, 56)"
            ]
          },
          "metadata": {},
          "execution_count": 86
        }
      ]
    },
    {
      "cell_type": "code",
      "source": [
        "from sklearn.model_selection import train_test_split\n",
        "\n",
        "x_train_sp, x_test_sp, y_train_sp, y_test_sp = train_test_split(x_train_ext, y_train, test_size=0.3, random_state=95)\n",
        "\n",
        "print(round(x_train_sp.transpose()[0].mean(),2))"
      ],
      "metadata": {
        "colab": {
          "base_uri": "https://localhost:8080/"
        },
        "id": "TLQJtm0I56x3",
        "outputId": "3223f996-104a-4782-e7d4-49daa0c3b59d"
      },
      "execution_count": 87,
      "outputs": [
        {
          "output_type": "stream",
          "name": "stdout",
          "text": [
            "2.97\n"
          ]
        }
      ]
    },
    {
      "cell_type": "code",
      "source": [
        "from sklearn.ensemble import RandomForestClassifier\n",
        "from sklearn.multiclass import OneVsRestClassifier\n",
        "\n",
        "rfc = RandomForestClassifier(criterion='gini', min_samples_leaf=10, max_depth=20, n_estimators=10, random_state=95)\n",
        "rfc_multi = OneVsRestClassifier(rfc).fit(x_train_sp, y_train_sp)\n",
        "y_predicted = rfc_multi.predict(x_test_sp)"
      ],
      "metadata": {
        "id": "O309qfde6qF5"
      },
      "execution_count": 90,
      "outputs": []
    },
    {
      "cell_type": "code",
      "source": [
        "from sklearn.metrics import confusion_matrix\n",
        "\n",
        "rfc_confusion_matrix = confusion_matrix(y_test_sp, y_predicted)\n",
        "print(rfc_confusion_matrix[4][4])"
      ],
      "metadata": {
        "colab": {
          "base_uri": "https://localhost:8080/"
        },
        "id": "vFTX06iG7wKR",
        "outputId": "f27879cd-6d3d-4c2a-b982-3d8653a2b948"
      },
      "execution_count": 93,
      "outputs": [
        {
          "output_type": "stream",
          "name": "stdout",
          "text": [
            "1615\n"
          ]
        }
      ]
    },
    {
      "cell_type": "code",
      "source": [
        "from sklearn.linear_model import LogisticRegression\n",
        "from sklearn.multiclass import OneVsRestClassifier\n",
        "\n",
        "lr = LogisticRegression(solver='lbfgs', random_state=95)\n",
        "lr_multi = OneVsRestClassifier(lr).fit(x_train_sp, y_train_sp)\n",
        "y_predicted = lr_multi.predict(x_test_sp)"
      ],
      "metadata": {
        "colab": {
          "base_uri": "https://localhost:8080/"
        },
        "id": "efxb91MP9KiH",
        "outputId": "0692a3c0-d921-4126-8f4f-9f27fea8ea53"
      },
      "execution_count": 94,
      "outputs": [
        {
          "output_type": "stream",
          "name": "stderr",
          "text": [
            "/usr/local/lib/python3.7/dist-packages/sklearn/linear_model/_logistic.py:818: ConvergenceWarning: lbfgs failed to converge (status=1):\n",
            "STOP: TOTAL NO. of ITERATIONS REACHED LIMIT.\n",
            "\n",
            "Increase the number of iterations (max_iter) or scale the data as shown in:\n",
            "    https://scikit-learn.org/stable/modules/preprocessing.html\n",
            "Please also refer to the documentation for alternative solver options:\n",
            "    https://scikit-learn.org/stable/modules/linear_model.html#logistic-regression\n",
            "  extra_warning_msg=_LOGISTIC_SOLVER_CONVERGENCE_MSG,\n",
            "/usr/local/lib/python3.7/dist-packages/sklearn/linear_model/_logistic.py:818: ConvergenceWarning: lbfgs failed to converge (status=1):\n",
            "STOP: TOTAL NO. of ITERATIONS REACHED LIMIT.\n",
            "\n",
            "Increase the number of iterations (max_iter) or scale the data as shown in:\n",
            "    https://scikit-learn.org/stable/modules/preprocessing.html\n",
            "Please also refer to the documentation for alternative solver options:\n",
            "    https://scikit-learn.org/stable/modules/linear_model.html#logistic-regression\n",
            "  extra_warning_msg=_LOGISTIC_SOLVER_CONVERGENCE_MSG,\n"
          ]
        }
      ]
    },
    {
      "cell_type": "code",
      "source": [
        "lc_confusion_matrix = confusion_matrix(y_test_sp, y_predicted)\n",
        "print(rfc_confusion_matrix[6][6])"
      ],
      "metadata": {
        "colab": {
          "base_uri": "https://localhost:8080/"
        },
        "id": "sCFK8fFK-MUC",
        "outputId": "250de674-0452-405c-e226-59c1049a905c"
      },
      "execution_count": 95,
      "outputs": [
        {
          "output_type": "stream",
          "name": "stdout",
          "text": [
            "1715\n"
          ]
        }
      ]
    },
    {
      "cell_type": "code",
      "source": [
        "from sklearn.tree import DecisionTreeClassifier\n",
        "\n",
        "dtc = DecisionTreeClassifier(criterion='gini', min_samples_leaf=10, max_depth=20, random_state=95)\n",
        "dtc_multi = OneVsRestClassifier(dtc).fit(x_train_sp, y_train_sp)\n",
        "y_predicted = dtc_multi.predict(x_test_sp)"
      ],
      "metadata": {
        "id": "NK5QOpD9-WfK"
      },
      "execution_count": null,
      "outputs": []
    },
    {
      "cell_type": "code",
      "source": [
        "dtc_confusion_matrix = confusion_matrix(y_test_sp, y_predicted)\n",
        "print(dtc_confusion_matrix[7][7])"
      ],
      "metadata": {
        "id": "jpWi2BJn-q7i"
      },
      "execution_count": null,
      "outputs": []
    },
    {
      "cell_type": "code",
      "source": [
        "import pandas as pd\n",
        "\n",
        "digitsData = pd.read_csv(\"/content/drive/MyDrive/data/pred_for_task_exam.csv\", delimiter = ',', index_col=\"FileName\")\n",
        "x_test = pd.DataFrame(digitsData.drop(['Label'], axis=1))\n",
        "x_test = pca_new.transform(x_test)"
      ],
      "metadata": {
        "colab": {
          "base_uri": "https://localhost:8080/"
        },
        "id": "ANgPlCPj-6fY",
        "outputId": "3ec79f62-5e87-44ce-d546-2955ac318f2a"
      },
      "execution_count": 97,
      "outputs": [
        {
          "output_type": "stream",
          "name": "stderr",
          "text": [
            "/usr/local/lib/python3.7/dist-packages/sklearn/base.py:444: UserWarning: X has feature names, but PCA was fitted without feature names\n",
            "  f\"X has feature names, but {self.__class__.__name__} was fitted without\"\n"
          ]
        }
      ]
    },
    {
      "cell_type": "code",
      "source": [
        "y_predicted = rfc_multi.predict_proba(x_test)\n",
        "y_predicted.shape\n",
        "round(max(y_predicted[2]),3)"
      ],
      "metadata": {
        "id": "XAm4XJtq_cGV"
      },
      "execution_count": null,
      "outputs": []
    },
    {
      "cell_type": "code",
      "source": [
        "y_predicted = lr_multi.predict_proba(x_test)\n",
        "y_predicted.shape\n",
        "round(y_predicted[0][7],3)"
      ],
      "metadata": {
        "colab": {
          "base_uri": "https://localhost:8080/"
        },
        "id": "JCniqypVBYxT",
        "outputId": "c3db622a-8491-4dd0-df69-5cca502bca40"
      },
      "execution_count": 99,
      "outputs": [
        {
          "output_type": "execute_result",
          "data": {
            "text/plain": [
              "0.915"
            ]
          },
          "metadata": {},
          "execution_count": 99
        }
      ]
    },
    {
      "cell_type": "code",
      "source": [
        "y_predicted = dtc_multi.predict_proba(x_test)\n",
        "y_predicted.shape\n",
        "round(max(y_predicted[22]),3)"
      ],
      "metadata": {
        "id": "B0fVolrICnIO"
      },
      "execution_count": null,
      "outputs": []
    },
    {
      "cell_type": "code",
      "source": [
        "digitsData"
      ],
      "metadata": {
        "id": "-2GEkhrKCv3P"
      },
      "execution_count": null,
      "outputs": []
    },
    {
      "cell_type": "code",
      "source": [
        ""
      ],
      "metadata": {
        "id": "JcA1XdR_DQtl"
      },
      "execution_count": null,
      "outputs": []
    }
  ]
}